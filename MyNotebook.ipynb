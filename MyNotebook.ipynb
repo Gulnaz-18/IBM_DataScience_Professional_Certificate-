{
    "cells": [
        {
            "cell_type": "markdown",
            "metadata": {
                "collapsed": true
            },
            "source": "# My Jupyter Notebook on IBM Watson Studio"
        },
        {
            "cell_type": "markdown",
            "metadata": {},
            "source": "<b> Gulnaz Khabibullina "
        },
        {
            "cell_type": "markdown",
            "metadata": {},
            "source": "Happy and Healthy Data Scientist "
        },
        {
            "cell_type": "markdown",
            "metadata": {},
            "source": "<i> I am interested in data science because I am fascinated by the insights that the data is able to produce. "
        },
        {
            "cell_type": "markdown",
            "metadata": {},
            "source": "### The code below multiplies two numbers and produces an output "
        },
        {
            "cell_type": "code",
            "execution_count": 1,
            "metadata": {},
            "outputs": [
                {
                    "name": "stdout",
                    "output_type": "stream",
                    "text": "2\n"
                }
            ],
            "source": "x = 1\ny = 2\nz = x*y\nprint (z) "
        },
        {
            "cell_type": "markdown",
            "metadata": {},
            "source": "<ul>\n  <li>Python</li>\n  <li>R</li>\n  <li>SQL</li>\n</ul>"
        },
        {
            "cell_type": "markdown",
            "metadata": {},
            "source": "<ol type=\"1\">\n  <li>Tableau</li>\n  <li>Altryx</li>\n  <li>PowerBI</li>\n</ol>"
        },
        {
            "cell_type": "markdown",
            "metadata": {},
            "source": "<a href=\"www.ibm.com\">Visit IBM website</a>"
        },
        {
            "cell_type": "code",
            "execution_count": null,
            "metadata": {},
            "outputs": [],
            "source": ""
        }
    ],
    "metadata": {
        "kernelspec": {
            "display_name": "Python 3.7",
            "language": "python",
            "name": "python3"
        },
        "language_info": {
            "codemirror_mode": {
                "name": "ipython",
                "version": 3
            },
            "file_extension": ".py",
            "mimetype": "text/x-python",
            "name": "python",
            "nbconvert_exporter": "python",
            "pygments_lexer": "ipython3",
            "version": "3.7.10"
        }
    },
    "nbformat": 4,
    "nbformat_minor": 1
}