{
    "cells": [
        {
            "cell_type": "markdown",
            "metadata": {},
            "source": "<center>\n    <img src=\"https://cf-courses-data.s3.us.cloud-object-storage.appdomain.cloud/IBMDeveloperSkillsNetwork-PY0101EN-SkillsNetwork/IDSNlogo.png\" width=\"300\" alt=\"cognitiveclass.ai logo\"  />\n</center>\n\n# Application Programming Interface\n\nEstimated time needed: **15** minutes\n\n## Objectives\n\nAfter completing this lab you will be able to:\n\n-   Create and Use APIs in Python\n"
        },
        {
            "cell_type": "markdown",
            "metadata": {},
            "source": "### Introduction\n\nAn API lets two pieces of software talk to each other. Just like a function,  you don\u2019t have to know how the API works only its inputs and outputs.  An essential type of API is a REST API that allows you to access resources via the internet. In this lab, we will review the Pandas Library  in the context of an API, we will also review a basic REST API  \n"
        },
        {
            "cell_type": "markdown",
            "metadata": {},
            "source": "## Table of Contents\n\n<div class=\"alert alert-block alert-info\" style=\"margin-top: 20px\">\n<li><a href=\"#ref0\">Pandas is an API</a></li>\n<li><a href=\"#ref1\">REST APIs Basics  </a></li>\n<li><a href=\"#ref2\">Quiz on Tuples</a></li>\n\n</div>\n\n<hr>\n"
        },
        {
            "cell_type": "code",
            "execution_count": 2,
            "metadata": {
                "collapsed": false,
                "jupyter": {
                    "outputs_hidden": false
                }
            },
            "outputs": [
                {
                    "name": "stdout",
                    "output_type": "stream",
                    "text": "Collecting pycoingecko\n  Downloading https://files.pythonhosted.org/packages/c0/00/602485d63ae5417e81db11f8d047a327ce37b71a26eabe03b40889a47222/pycoingecko-1.4.1-py3-none-any.whl\nRequirement already satisfied: requests in /home/jupyterlab/conda/envs/python/lib/python3.6/site-packages (from pycoingecko) (2.25.1)\nRequirement already satisfied: idna<3,>=2.5 in /home/jupyterlab/conda/envs/python/lib/python3.6/site-packages (from requests->pycoingecko) (2.10)\nRequirement already satisfied: urllib3<1.27,>=1.21.1 in /home/jupyterlab/conda/envs/python/lib/python3.6/site-packages (from requests->pycoingecko) (1.26.4)\nRequirement already satisfied: certifi>=2017.4.17 in /home/jupyterlab/conda/envs/python/lib/python3.6/site-packages (from requests->pycoingecko) (2020.12.5)\nRequirement already satisfied: chardet<5,>=3.0.2 in /home/jupyterlab/conda/envs/python/lib/python3.6/site-packages (from requests->pycoingecko) (4.0.0)\nInstalling collected packages: pycoingecko\nSuccessfully installed pycoingecko-1.4.1\nRequirement already satisfied: plotly in /home/jupyterlab/conda/envs/python/lib/python3.6/site-packages (4.14.3)\nRequirement already satisfied: retrying>=1.3.3 in /home/jupyterlab/conda/envs/python/lib/python3.6/site-packages (from plotly) (1.3.3)\nRequirement already satisfied: six in /home/jupyterlab/conda/envs/python/lib/python3.6/site-packages (from plotly) (1.15.0)\nCollecting mplfinance\n\u001b[?25l  Downloading https://files.pythonhosted.org/packages/44/fe/9a4018a4bed7264ecc630c373cbf3315711944bf93ebd8e2fa1279a04262/mplfinance-0.12.7a12-py3-none-any.whl (61kB)\n\u001b[K     |\u2588\u2588\u2588\u2588\u2588\u2588\u2588\u2588\u2588\u2588\u2588\u2588\u2588\u2588\u2588\u2588\u2588\u2588\u2588\u2588\u2588\u2588\u2588\u2588\u2588\u2588\u2588\u2588\u2588\u2588\u2588\u2588| 71kB 12.5MB/s eta 0:00:01\n\u001b[?25hRequirement already satisfied: pandas in /home/jupyterlab/conda/envs/python/lib/python3.6/site-packages (from mplfinance) (1.1.5)\nRequirement already satisfied: matplotlib in /home/jupyterlab/conda/envs/python/lib/python3.6/site-packages (from mplfinance) (3.3.4)\nRequirement already satisfied: pytz>=2017.2 in /home/jupyterlab/conda/envs/python/lib/python3.6/site-packages (from pandas->mplfinance) (2021.1)\nRequirement already satisfied: python-dateutil>=2.7.3 in /home/jupyterlab/conda/envs/python/lib/python3.6/site-packages (from pandas->mplfinance) (2.8.1)\nRequirement already satisfied: numpy>=1.15.4 in /home/jupyterlab/conda/envs/python/lib/python3.6/site-packages (from pandas->mplfinance) (1.19.5)\nRequirement already satisfied: pyparsing!=2.0.4,!=2.1.2,!=2.1.6,>=2.0.3 in /home/jupyterlab/conda/envs/python/lib/python3.6/site-packages (from matplotlib->mplfinance) (2.4.7)\nRequirement already satisfied: pillow>=6.2.0 in /home/jupyterlab/conda/envs/python/lib/python3.6/site-packages (from matplotlib->mplfinance) (8.2.0)\nRequirement already satisfied: kiwisolver>=1.0.1 in /home/jupyterlab/conda/envs/python/lib/python3.6/site-packages (from matplotlib->mplfinance) (1.3.1)\nRequirement already satisfied: cycler>=0.10 in /home/jupyterlab/conda/envs/python/lib/python3.6/site-packages/cycler-0.10.0-py3.6.egg (from matplotlib->mplfinance) (0.10.0)\nRequirement already satisfied: six>=1.5 in /home/jupyterlab/conda/envs/python/lib/python3.6/site-packages (from python-dateutil>=2.7.3->pandas->mplfinance) (1.15.0)\nInstalling collected packages: mplfinance\nSuccessfully installed mplfinance-0.12.7a12\n"
                }
            ],
            "source": "!pip install pycoingecko\n!pip install plotly\n!pip install mplfinance"
        },
        {
            "cell_type": "markdown",
            "metadata": {},
            "source": "<h2 id=\"PandasAPI\">Pandas is an API </h2>\n"
        },
        {
            "cell_type": "markdown",
            "metadata": {},
            "source": "Pandas is actually set of software components , much of  which is not even written in Python.\n"
        },
        {
            "cell_type": "code",
            "execution_count": 3,
            "metadata": {
                "collapsed": false,
                "jupyter": {
                    "outputs_hidden": false
                }
            },
            "outputs": [],
            "source": "import pandas as pd\nimport numpy as np\nimport plotly.graph_objects as go\nfrom plotly.offline import plot\nimport matplotlib.pyplot as plt\nimport datetime\nfrom pycoingecko import CoinGeckoAPI\nfrom mplfinance.original_flavor import candlestick2_ohlc"
        },
        {
            "cell_type": "markdown",
            "metadata": {},
            "source": "You create a dictionary, this is just data.\n"
        },
        {
            "cell_type": "code",
            "execution_count": 4,
            "metadata": {
                "collapsed": false,
                "jupyter": {
                    "outputs_hidden": false
                }
            },
            "outputs": [],
            "source": "dict_={'a':[11,21,31],'b':[12,22,32]}"
        },
        {
            "cell_type": "markdown",
            "metadata": {},
            "source": "When you create a Pandas object with the Dataframe constructor in API lingo, this is an \"instance\". The data in the dictionary is passed along to the pandas API. You then use the dataframe to communicate with the API.\n"
        },
        {
            "cell_type": "code",
            "execution_count": 6,
            "metadata": {
                "collapsed": false,
                "jupyter": {
                    "outputs_hidden": false
                }
            },
            "outputs": [
                {
                    "data": {
                        "text/plain": "pandas.core.frame.DataFrame"
                    },
                    "execution_count": 6,
                    "metadata": {},
                    "output_type": "execute_result"
                }
            ],
            "source": "df=pd.DataFrame(dict_)\ntype(df)"
        },
        {
            "cell_type": "markdown",
            "metadata": {},
            "source": "<img src = \"https://cf-courses-data.s3.us.cloud-object-storage.appdomain.cloud/IBMDeveloperSkillsNetwork-PY0101EN-SkillsNetwork/labs/Module%205/images/pandas_api.png\" width = 800, align = \"center\" alt=\"logistic regression block diagram\" />\n"
        },
        {
            "cell_type": "markdown",
            "metadata": {},
            "source": "When you call the method head the dataframe communicates with the API displaying the first few rows of the dataframe.\n"
        },
        {
            "cell_type": "code",
            "execution_count": 7,
            "metadata": {
                "collapsed": false,
                "jupyter": {
                    "outputs_hidden": false
                }
            },
            "outputs": [
                {
                    "data": {
                        "text/html": "<div>\n<style scoped>\n    .dataframe tbody tr th:only-of-type {\n        vertical-align: middle;\n    }\n\n    .dataframe tbody tr th {\n        vertical-align: top;\n    }\n\n    .dataframe thead th {\n        text-align: right;\n    }\n</style>\n<table border=\"1\" class=\"dataframe\">\n  <thead>\n    <tr style=\"text-align: right;\">\n      <th></th>\n      <th>a</th>\n      <th>b</th>\n    </tr>\n  </thead>\n  <tbody>\n    <tr>\n      <th>0</th>\n      <td>11</td>\n      <td>12</td>\n    </tr>\n    <tr>\n      <th>1</th>\n      <td>21</td>\n      <td>22</td>\n    </tr>\n    <tr>\n      <th>2</th>\n      <td>31</td>\n      <td>32</td>\n    </tr>\n  </tbody>\n</table>\n</div>",
                        "text/plain": "    a   b\n0  11  12\n1  21  22\n2  31  32"
                    },
                    "execution_count": 7,
                    "metadata": {},
                    "output_type": "execute_result"
                }
            ],
            "source": "df.head()"
        },
        {
            "cell_type": "markdown",
            "metadata": {},
            "source": "When you call the method mean,the API will calculate the mean and return the value.\n"
        },
        {
            "cell_type": "code",
            "execution_count": 8,
            "metadata": {
                "collapsed": false,
                "jupyter": {
                    "outputs_hidden": false
                }
            },
            "outputs": [
                {
                    "data": {
                        "text/plain": "a    21.0\nb    22.0\ndtype: float64"
                    },
                    "execution_count": 8,
                    "metadata": {},
                    "output_type": "execute_result"
                }
            ],
            "source": "df.mean()"
        },
        {
            "cell_type": "markdown",
            "metadata": {},
            "source": "<h2 id=\"ref1\">REST APIs</h2>\n"
        },
        {
            "cell_type": "markdown",
            "metadata": {},
            "source": "Rest API\u2019s function by sending a request,  the request is communicated via HTTP message. The HTTP message usually contains a JSON file. This contains instructions for what operation we would like the service or resource to perform. In a similar manner, API returns a response, via an HTTP message, this response is usually contained within a JSON.\n\nIn cryptocurrency a popular method to display the movements of the price of a currency.\n\n![Example Candlestick Graph](https://cf-courses-data.s3.us.cloud-object-storage.appdomain.cloud/IBMDeveloperSkillsNetwork-PY0101EN-SkillsNetwork/labs/Module%205/candlestick.png)\n\nHere is a description of the candle sticks.\n\n<img src=\"https://cf-courses-data.s3.us.cloud-object-storage.appdomain.cloud/IBMDeveloperSkillsNetwork-PY0101EN-SkillsNetwork/labs/Module%205/explanation.png\" alt=\"Candle Stick Definition\" width=\"800\" height=\"600\">\n\nIn this lab, we will be using the <a href=https://www.coingecko.com/en/api>CoinGecko API</a> to create one of these candlestick graphs for Bitcoin. We will use the API to get the price data for 30 days with 24 observation per day, 1 per hour. We will find the max, min, open, and close price per day meaning we will have 30 candlesticks and use that to generate the candlestick graph. Although we are using the CoinGecko API we will use a Python client/wrapper for the API called <a href=https://github.com/man-c/pycoingecko>PyCoinGecko</a>. PyCoinGecko will make performing the requests easy and it will deal with the enpoint targeting.\n"
        },
        {
            "cell_type": "markdown",
            "metadata": {},
            "source": "Lets start off by getting the data we need. Using the <code>get_coin_market_chart_by_id(id, vs_currency, days)</code>. <code>id</code> is the name of the coin you want, <code>vs_currency</code> is the currency you want the price in, and <code>days</code> is how many days back from today you want.\n"
        },
        {
            "cell_type": "code",
            "execution_count": 9,
            "metadata": {},
            "outputs": [],
            "source": "cg = CoinGeckoAPI()\n\nbitcoin_data = cg.get_coin_market_chart_by_id(id='bitcoin', vs_currency='usd', days=30)"
        },
        {
            "cell_type": "code",
            "execution_count": 10,
            "metadata": {},
            "outputs": [
                {
                    "data": {
                        "text/plain": "dict"
                    },
                    "execution_count": 10,
                    "metadata": {},
                    "output_type": "execute_result"
                }
            ],
            "source": "type(bitcoin_data )"
        },
        {
            "cell_type": "markdown",
            "metadata": {},
            "source": "The response we get is in the form of a JSON which includes the price, market caps, and total volumes along with timestamps for each observation. We are focused on the prices so we will select that data.\n"
        },
        {
            "cell_type": "code",
            "execution_count": 11,
            "metadata": {},
            "outputs": [
                {
                    "data": {
                        "text/plain": "[[1616000437382, 55464.53405988903],\n [1616004102938, 55685.99452727078],\n [1616008030978, 57990.22953862034],\n [1616011240836, 58006.36628788306],\n [1616015059385, 58126.99104200835]]"
                    },
                    "execution_count": 11,
                    "metadata": {},
                    "output_type": "execute_result"
                }
            ],
            "source": "bitcoin_price_data = bitcoin_data['prices']\n\nbitcoin_price_data[0:5]"
        },
        {
            "cell_type": "markdown",
            "metadata": {},
            "source": "Finally lets turn this data into a Pandas DataFrame.\n"
        },
        {
            "cell_type": "code",
            "execution_count": 12,
            "metadata": {},
            "outputs": [],
            "source": "data = pd.DataFrame(bitcoin_price_data, columns=['TimeStamp', 'Price'])"
        },
        {
            "cell_type": "markdown",
            "metadata": {},
            "source": "Now that we have the DataFrame we will convert the timestamp to datetime and save it as a column called <code>Date</code>. We will map our <code>unix_to_datetime</code> to each timestamp and convert it to a readable datetime.\n"
        },
        {
            "cell_type": "code",
            "execution_count": 13,
            "metadata": {},
            "outputs": [],
            "source": "data['Date'] = pd.to_datetime(data['TimeStamp'], unit='ms')"
        },
        {
            "cell_type": "markdown",
            "metadata": {},
            "source": "Using this modified dataset we can now group by the <code>Date</code> and find the min, max, open, and close for the candlesticks.\n"
        },
        {
            "cell_type": "code",
            "execution_count": 19,
            "metadata": {},
            "outputs": [
                {
                    "data": {
                        "text/html": "<div>\n<style scoped>\n    .dataframe tbody tr th:only-of-type {\n        vertical-align: middle;\n    }\n\n    .dataframe tbody tr th {\n        vertical-align: top;\n    }\n\n    .dataframe thead tr th {\n        text-align: left;\n    }\n</style>\n<table border=\"1\" class=\"dataframe\">\n  <thead>\n    <tr>\n      <th></th>\n      <th colspan=\"4\" halign=\"left\">Price</th>\n    </tr>\n    <tr>\n      <th></th>\n      <th>min</th>\n      <th>max</th>\n      <th>first</th>\n      <th>last</th>\n    </tr>\n  </thead>\n  <tbody>\n    <tr>\n      <th>0</th>\n      <td>55464.534060</td>\n      <td>58690.535184</td>\n      <td>55464.534060</td>\n      <td>58639.388823</td>\n    </tr>\n    <tr>\n      <th>1</th>\n      <td>57838.582226</td>\n      <td>60119.692822</td>\n      <td>59269.234665</td>\n      <td>57878.926471</td>\n    </tr>\n    <tr>\n      <th>2</th>\n      <td>56570.868064</td>\n      <td>59337.514819</td>\n      <td>56570.868064</td>\n      <td>58520.499755</td>\n    </tr>\n    <tr>\n      <th>3</th>\n      <td>58466.412674</td>\n      <td>60104.347056</td>\n      <td>58613.361490</td>\n      <td>58705.984898</td>\n    </tr>\n    <tr>\n      <th>4</th>\n      <td>56127.538565</td>\n      <td>58593.554356</td>\n      <td>58593.554356</td>\n      <td>57811.502046</td>\n    </tr>\n    <tr>\n      <th>5</th>\n      <td>54108.996103</td>\n      <td>58191.146068</td>\n      <td>57354.739920</td>\n      <td>54580.298682</td>\n    </tr>\n    <tr>\n      <th>6</th>\n      <td>53728.747395</td>\n      <td>55701.854634</td>\n      <td>54370.137558</td>\n      <td>54528.107544</td>\n    </tr>\n    <tr>\n      <th>7</th>\n      <td>52665.104483</td>\n      <td>56830.932737</td>\n      <td>54535.552090</td>\n      <td>52665.104483</td>\n    </tr>\n    <tr>\n      <th>8</th>\n      <td>50846.297846</td>\n      <td>53277.374655</td>\n      <td>52656.932989</td>\n      <td>51741.475939</td>\n    </tr>\n    <tr>\n      <th>9</th>\n      <td>51763.694447</td>\n      <td>54632.534114</td>\n      <td>51763.694447</td>\n      <td>54430.970894</td>\n    </tr>\n    <tr>\n      <th>10</th>\n      <td>54356.888044</td>\n      <td>56313.773332</td>\n      <td>55662.594552</td>\n      <td>56050.468694</td>\n    </tr>\n    <tr>\n      <th>11</th>\n      <td>54936.979574</td>\n      <td>56375.593658</td>\n      <td>55754.075820</td>\n      <td>55708.927248</td>\n    </tr>\n    <tr>\n      <th>12</th>\n      <td>55136.437332</td>\n      <td>58179.650002</td>\n      <td>55856.537655</td>\n      <td>57695.010553</td>\n    </tr>\n    <tr>\n      <th>13</th>\n      <td>57168.376954</td>\n      <td>59370.772243</td>\n      <td>57541.493889</td>\n      <td>58670.185194</td>\n    </tr>\n    <tr>\n      <th>14</th>\n      <td>57827.356227</td>\n      <td>59749.044566</td>\n      <td>58668.628337</td>\n      <td>58659.816079</td>\n    </tr>\n    <tr>\n      <th>15</th>\n      <td>58419.910794</td>\n      <td>59205.020162</td>\n      <td>58772.181282</td>\n      <td>58941.765108</td>\n    </tr>\n    <tr>\n      <th>16</th>\n      <td>58694.958404</td>\n      <td>60086.897546</td>\n      <td>58749.225651</td>\n      <td>58893.001117</td>\n    </tr>\n    <tr>\n      <th>17</th>\n      <td>57672.798074</td>\n      <td>59528.378922</td>\n      <td>59528.378922</td>\n      <td>57841.846707</td>\n    </tr>\n    <tr>\n      <th>18</th>\n      <td>57008.113526</td>\n      <td>58183.712030</td>\n      <td>57008.113526</td>\n      <td>58120.987455</td>\n    </tr>\n    <tr>\n      <th>19</th>\n      <td>57076.962497</td>\n      <td>59025.620776</td>\n      <td>58228.802623</td>\n      <td>58890.429333</td>\n    </tr>\n    <tr>\n      <th>20</th>\n      <td>57846.959491</td>\n      <td>59037.335455</td>\n      <td>58833.186958</td>\n      <td>57990.630038</td>\n    </tr>\n    <tr>\n      <th>21</th>\n      <td>56039.830514</td>\n      <td>58296.357815</td>\n      <td>58013.397013</td>\n      <td>56495.771344</td>\n    </tr>\n    <tr>\n      <th>22</th>\n      <td>56134.417389</td>\n      <td>57957.148330</td>\n      <td>56134.417389</td>\n      <td>57925.518781</td>\n    </tr>\n    <tr>\n      <th>23</th>\n      <td>57806.298750</td>\n      <td>58563.585722</td>\n      <td>58065.644025</td>\n      <td>58057.371948</td>\n    </tr>\n    <tr>\n      <th>24</th>\n      <td>58089.169269</td>\n      <td>60865.802118</td>\n      <td>58136.267624</td>\n      <td>59181.335952</td>\n    </tr>\n    <tr>\n      <th>25</th>\n      <td>59402.940555</td>\n      <td>60442.849048</td>\n      <td>59787.312336</td>\n      <td>60062.539344</td>\n    </tr>\n    <tr>\n      <th>26</th>\n      <td>59671.336410</td>\n      <td>60774.261269</td>\n      <td>60076.174153</td>\n      <td>60091.490242</td>\n    </tr>\n    <tr>\n      <th>27</th>\n      <td>59896.166350</td>\n      <td>63539.782572</td>\n      <td>59896.166350</td>\n      <td>63233.948547</td>\n    </tr>\n    <tr>\n      <th>28</th>\n      <td>62020.813824</td>\n      <td>64594.993899</td>\n      <td>63576.676041</td>\n      <td>62945.156352</td>\n    </tr>\n    <tr>\n      <th>29</th>\n      <td>62320.265663</td>\n      <td>63604.377201</td>\n      <td>62807.123233</td>\n      <td>63298.547036</td>\n    </tr>\n    <tr>\n      <th>30</th>\n      <td>60497.972257</td>\n      <td>63467.430016</td>\n      <td>63207.553073</td>\n      <td>61419.989311</td>\n    </tr>\n  </tbody>\n</table>\n</div>",
                        "text/plain": "           Price                                          \n             min           max         first          last\n0   55464.534060  58690.535184  55464.534060  58639.388823\n1   57838.582226  60119.692822  59269.234665  57878.926471\n2   56570.868064  59337.514819  56570.868064  58520.499755\n3   58466.412674  60104.347056  58613.361490  58705.984898\n4   56127.538565  58593.554356  58593.554356  57811.502046\n5   54108.996103  58191.146068  57354.739920  54580.298682\n6   53728.747395  55701.854634  54370.137558  54528.107544\n7   52665.104483  56830.932737  54535.552090  52665.104483\n8   50846.297846  53277.374655  52656.932989  51741.475939\n9   51763.694447  54632.534114  51763.694447  54430.970894\n10  54356.888044  56313.773332  55662.594552  56050.468694\n11  54936.979574  56375.593658  55754.075820  55708.927248\n12  55136.437332  58179.650002  55856.537655  57695.010553\n13  57168.376954  59370.772243  57541.493889  58670.185194\n14  57827.356227  59749.044566  58668.628337  58659.816079\n15  58419.910794  59205.020162  58772.181282  58941.765108\n16  58694.958404  60086.897546  58749.225651  58893.001117\n17  57672.798074  59528.378922  59528.378922  57841.846707\n18  57008.113526  58183.712030  57008.113526  58120.987455\n19  57076.962497  59025.620776  58228.802623  58890.429333\n20  57846.959491  59037.335455  58833.186958  57990.630038\n21  56039.830514  58296.357815  58013.397013  56495.771344\n22  56134.417389  57957.148330  56134.417389  57925.518781\n23  57806.298750  58563.585722  58065.644025  58057.371948\n24  58089.169269  60865.802118  58136.267624  59181.335952\n25  59402.940555  60442.849048  59787.312336  60062.539344\n26  59671.336410  60774.261269  60076.174153  60091.490242\n27  59896.166350  63539.782572  59896.166350  63233.948547\n28  62020.813824  64594.993899  63576.676041  62945.156352\n29  62320.265663  63604.377201  62807.123233  63298.547036\n30  60497.972257  63467.430016  63207.553073  61419.989311"
                    },
                    "execution_count": 19,
                    "metadata": {},
                    "output_type": "execute_result"
                }
            ],
            "source": "candlestick_data = data.groupby(data.Date.dt.date, as_index=False).agg({\"Price\": ['min', 'max', 'first', 'last']})\ncandlestick_data"
        },
        {
            "cell_type": "markdown",
            "metadata": {},
            "source": "Finally we are now ready to use plotly to create our Candlestick Chart.\n"
        },
        {
            "cell_type": "code",
            "execution_count": 17,
            "metadata": {},
            "outputs": [
                {
                    "data": {
                        "application/vnd.plotly.v1+json": {
                            "config": {
                                "plotlyServerURL": "https://plot.ly"
                            },
                            "data": [
                                {
                                    "close": [
                                        58639.388822757624,
                                        57878.92647065825,
                                        58520.49975505858,
                                        58705.984897852395,
                                        57811.50204628491,
                                        54580.29868196107,
                                        54528.10754392893,
                                        52665.10448340395,
                                        51741.475939379234,
                                        54430.970894304104,
                                        56050.468693711664,
                                        55708.92724807546,
                                        57695.0105528855,
                                        58670.185194064696,
                                        58659.81607908696,
                                        58941.76510849229,
                                        58893.001117410044,
                                        57841.846706724886,
                                        58120.98745488823,
                                        58890.42933312271,
                                        57990.630038086194,
                                        56495.771344222034,
                                        57925.518780866594,
                                        58057.37194756994,
                                        59181.335951811874,
                                        60062.539344026925,
                                        60091.49024165346,
                                        63233.94854744293,
                                        62945.15635224032,
                                        63298.547035700794,
                                        61419.989310588826
                                    ],
                                    "high": [
                                        58690.53518386924,
                                        60119.69282225918,
                                        59337.51481886304,
                                        60104.347056141916,
                                        58593.554356274595,
                                        58191.14606750297,
                                        55701.85463369069,
                                        56830.9327369185,
                                        53277.374654964246,
                                        54632.534114012815,
                                        56313.7733320288,
                                        56375.59365819968,
                                        58179.65000175754,
                                        59370.77224252133,
                                        59749.04456614096,
                                        59205.02016179689,
                                        60086.89754589551,
                                        59528.37892164109,
                                        58183.71202960251,
                                        59025.62077552239,
                                        59037.33545469934,
                                        58296.35781501513,
                                        57957.14832967089,
                                        58563.585721537915,
                                        60865.80211839993,
                                        60442.84904777686,
                                        60774.26126925519,
                                        63539.782572281576,
                                        64594.9938985327,
                                        63604.37720073516,
                                        63467.43001569091
                                    ],
                                    "low": [
                                        55464.53405988903,
                                        57838.58222570468,
                                        56570.868063677444,
                                        58466.4126744696,
                                        56127.53856499292,
                                        54108.99610301334,
                                        53728.74739472279,
                                        52665.10448340395,
                                        50846.2978463142,
                                        51763.69444701034,
                                        54356.88804430096,
                                        54936.9795737789,
                                        55136.437332020636,
                                        57168.37695431903,
                                        57827.356226587064,
                                        58419.910794038595,
                                        58694.958404414356,
                                        57672.79807432743,
                                        57008.11352582882,
                                        57076.96249690862,
                                        57846.95949107808,
                                        56039.83051439416,
                                        56134.41738866435,
                                        57806.29874959166,
                                        58089.16926938455,
                                        59402.940555124434,
                                        59671.33641024264,
                                        59896.1663501267,
                                        62020.81382429886,
                                        62320.26566265919,
                                        60497.97225721784
                                    ],
                                    "open": [
                                        55464.53405988903,
                                        59269.23466458064,
                                        56570.868063677444,
                                        58613.361490397234,
                                        58593.554356274595,
                                        57354.739920163214,
                                        54370.137557895185,
                                        54535.55208982534,
                                        52656.93298940185,
                                        51763.69444701034,
                                        55662.59455207245,
                                        55754.075819698795,
                                        55856.53765470235,
                                        57541.493889485166,
                                        58668.628336761,
                                        58772.18128166619,
                                        58749.22565086035,
                                        59528.37892164109,
                                        57008.11352582882,
                                        58228.802623466196,
                                        58833.186957538484,
                                        58013.39701271109,
                                        56134.41738866435,
                                        58065.644024815316,
                                        58136.267623707194,
                                        59787.312335644245,
                                        60076.17415341904,
                                        59896.1663501267,
                                        63576.676041048275,
                                        62807.12323259299,
                                        63207.55307317802
                                    ],
                                    "type": "candlestick",
                                    "x": [
                                        "2021-03-17T17:00:37.382000",
                                        "2021-03-17T18:01:42.938000",
                                        "2021-03-17T19:07:10.978000",
                                        "2021-03-17T20:00:40.836000",
                                        "2021-03-17T21:04:19.385000",
                                        "2021-03-17T22:10:02.357000",
                                        "2021-03-17T23:03:20.886000",
                                        "2021-03-18T00:06:44.512000",
                                        "2021-03-18T01:05:19.412000",
                                        "2021-03-18T02:07:05.896000",
                                        "2021-03-18T03:08:08.067000",
                                        "2021-03-18T04:03:10.344000",
                                        "2021-03-18T05:05:33.137000",
                                        "2021-03-18T06:01:38.161000",
                                        "2021-03-18T07:06:58.150000",
                                        "2021-03-18T08:01:00.512000",
                                        "2021-03-18T09:00:58.686000",
                                        "2021-03-18T10:04:09.086000",
                                        "2021-03-18T11:03:01.728000",
                                        "2021-03-18T12:07:27.157000",
                                        "2021-03-18T13:09:19.580000",
                                        "2021-03-18T14:07:14.490000",
                                        "2021-03-18T15:05:25.050000",
                                        "2021-03-18T16:38:05.393000",
                                        "2021-03-18T17:36:50.968000",
                                        "2021-03-18T18:27:27.998000",
                                        "2021-03-18T19:28:33.523000",
                                        "2021-03-18T20:31:33.338000",
                                        "2021-03-18T21:29:51.808000",
                                        "2021-03-18T22:27:06.733000",
                                        "2021-03-18T23:29:57.741000",
                                        "2021-03-19T00:30:51.842000",
                                        "2021-03-19T01:19:57.687000",
                                        "2021-03-19T02:23:36.139000",
                                        "2021-03-19T03:25:39.430000",
                                        "2021-03-19T04:34:07.326000",
                                        "2021-03-19T05:29:56.029000",
                                        "2021-03-19T06:25:29.947000",
                                        "2021-03-19T07:26:11.830000",
                                        "2021-03-19T08:31:22.924000",
                                        "2021-03-19T09:22:54.807000",
                                        "2021-03-19T10:20:43.246000",
                                        "2021-03-19T11:25:34.889000",
                                        "2021-03-19T12:30:36.034000",
                                        "2021-03-19T13:08:47.042000",
                                        "2021-03-19T14:22:19.842000",
                                        "2021-03-19T15:31:46.864000",
                                        "2021-03-19T16:23:32.204000",
                                        "2021-03-19T17:33:57.724000",
                                        "2021-03-19T18:21:14.629000",
                                        "2021-03-19T19:09:15.307000",
                                        "2021-03-19T20:30:51.441000",
                                        "2021-03-19T21:27:55.261000",
                                        "2021-03-19T22:33:17.295000",
                                        "2021-03-19T23:17:14.783000",
                                        "2021-03-20T00:26:47.470000",
                                        "2021-03-20T01:18:52.891000",
                                        "2021-03-20T02:27:32.712000",
                                        "2021-03-20T03:08:32.003000",
                                        "2021-03-20T04:24:21.186000",
                                        "2021-03-20T05:10:15.786000",
                                        "2021-03-20T06:01:13.932000",
                                        "2021-03-20T07:06:34.014000",
                                        "2021-03-20T08:16:03.087000",
                                        "2021-03-20T09:03:28.311000",
                                        "2021-03-20T10:24:22.921000",
                                        "2021-03-20T11:04:01.353000",
                                        "2021-03-20T12:18:58.615000",
                                        "2021-03-20T13:34:50.948000",
                                        "2021-03-20T14:17:35.404000",
                                        "2021-03-20T15:29:49.107000",
                                        "2021-03-20T16:23:33.046000",
                                        "2021-03-20T17:18:31.195000",
                                        "2021-03-20T18:04:37.335000",
                                        "2021-03-20T19:22:07.212000",
                                        "2021-03-20T20:22:01.045000",
                                        "2021-03-20T21:22:05.249000",
                                        "2021-03-20T22:34:10.679000",
                                        "2021-03-20T23:29:53.885000",
                                        "2021-03-21T00:19:39.902000",
                                        "2021-03-21T01:03:25.657000",
                                        "2021-03-21T02:04:03.572000",
                                        "2021-03-21T03:06:51.828000",
                                        "2021-03-21T04:02:24.468000",
                                        "2021-03-21T05:07:59.836000",
                                        "2021-03-21T06:09:46.124000",
                                        "2021-03-21T07:08:44.524000",
                                        "2021-03-21T08:07:54.468000",
                                        "2021-03-21T09:00:51.670000",
                                        "2021-03-21T10:13:17.563000",
                                        "2021-03-21T11:08:57.717000",
                                        "2021-03-21T12:07:42.216000",
                                        "2021-03-21T13:00:56.647000",
                                        "2021-03-21T14:07:56.788000",
                                        "2021-03-21T15:07:44.204000",
                                        "2021-03-21T16:11:32.715000",
                                        "2021-03-21T17:04:50.056000",
                                        "2021-03-21T18:14:43.787000",
                                        "2021-03-21T19:09:27.776000",
                                        "2021-03-21T20:04:02.749000",
                                        "2021-03-21T21:00:58.951000",
                                        "2021-03-21T22:02:40.603000",
                                        "2021-03-21T23:02:08.232000",
                                        "2021-03-22T00:06:07.678000",
                                        "2021-03-22T01:14:01.815000",
                                        "2021-03-22T02:12:27.652000",
                                        "2021-03-22T03:04:59.973000",
                                        "2021-03-22T04:11:51.282000",
                                        "2021-03-22T05:04:17.772000",
                                        "2021-03-22T06:06:34.685000",
                                        "2021-03-22T07:14:31.283000",
                                        "2021-03-22T08:04:50.989000",
                                        "2021-03-22T09:10:08.628000",
                                        "2021-03-22T10:04:30.800000",
                                        "2021-03-22T11:07:07.987000",
                                        "2021-03-22T12:06:00.916000",
                                        "2021-03-22T13:14:28.346000",
                                        "2021-03-22T14:14:44.218000",
                                        "2021-03-22T15:01:57.074000",
                                        "2021-03-22T16:08:05.641000",
                                        "2021-03-22T17:05:15.113000",
                                        "2021-03-22T18:03:36.234000",
                                        "2021-03-22T19:10:45.129000",
                                        "2021-03-22T20:02:00.990000",
                                        "2021-03-22T21:10:43.176000",
                                        "2021-03-22T22:12:41.572000",
                                        "2021-03-22T23:02:09.952000",
                                        "2021-03-23T00:00:50.275000",
                                        "2021-03-23T01:04:59.721000",
                                        "2021-03-23T02:06:32.486000",
                                        "2021-03-23T03:09:24.967000",
                                        "2021-03-23T04:07:58.625000",
                                        "2021-03-23T05:14:08.041000",
                                        "2021-03-23T06:36:08.907000",
                                        "2021-03-23T07:33:33.671000",
                                        "2021-03-23T08:26:37.994000",
                                        "2021-03-23T09:23:24.414000",
                                        "2021-03-23T10:21:10.547000",
                                        "2021-03-23T11:20:48.432000",
                                        "2021-03-23T12:12:49.155000",
                                        "2021-03-23T13:32:12.522000",
                                        "2021-03-23T14:05:05.393000",
                                        "2021-03-23T15:32:49.375000",
                                        "2021-03-23T16:24:48.478000",
                                        "2021-03-23T17:12:29.518000",
                                        "2021-03-23T18:15:56.725000",
                                        "2021-03-23T19:15:16.776000",
                                        "2021-03-23T20:17:21.073000",
                                        "2021-03-23T21:27:00.666000",
                                        "2021-03-23T22:04:09.137000",
                                        "2021-03-23T23:13:24.682000",
                                        "2021-03-24T00:13:46.563000",
                                        "2021-03-24T01:34:11.113000",
                                        "2021-03-24T02:24:37.047000",
                                        "2021-03-24T03:21:16.322000",
                                        "2021-03-24T04:26:33.187000",
                                        "2021-03-24T05:20:40.600000",
                                        "2021-03-24T06:25:28.908000",
                                        "2021-03-24T07:23:27.949000",
                                        "2021-03-24T08:35:53.817000",
                                        "2021-03-24T09:32:47.528000",
                                        "2021-03-24T10:24:25.476000",
                                        "2021-03-24T11:24:11.563000",
                                        "2021-03-24T12:31:34.303000",
                                        "2021-03-24T13:18:48.462000",
                                        "2021-03-24T14:02:44.686000",
                                        "2021-03-24T15:31:51.730000",
                                        "2021-03-24T16:22:29.063000",
                                        "2021-03-24T17:35:06.267000",
                                        "2021-03-24T18:16:57.036000",
                                        "2021-03-24T19:19:01.795000",
                                        "2021-03-24T20:22:36.094000",
                                        "2021-03-24T21:14:09.563000",
                                        "2021-03-24T22:09:31.940000",
                                        "2021-03-24T23:12:46.824000",
                                        "2021-03-25T00:19:52.560000",
                                        "2021-03-25T01:17:30.274000",
                                        "2021-03-25T02:16:39.448000",
                                        "2021-03-25T03:06:25.603000",
                                        "2021-03-25T04:28:04.651000",
                                        "2021-03-25T05:17:42.508000",
                                        "2021-03-25T06:24:29.585000",
                                        "2021-03-25T07:37:19.908000",
                                        "2021-03-25T08:24:06.420000",
                                        "2021-03-25T09:17:16.016000",
                                        "2021-03-25T10:29:27.385000",
                                        "2021-03-25T11:10:27.143000",
                                        "2021-03-25T12:16:20.444000",
                                        "2021-03-25T13:16:17.475000",
                                        "2021-03-25T14:31:52.318000",
                                        "2021-03-25T15:23:20.136000",
                                        "2021-03-25T16:02:34.809000",
                                        "2021-03-25T17:12:13.928000",
                                        "2021-03-25T18:32:33.290000",
                                        "2021-03-25T20:28:16.702000",
                                        "2021-03-25T20:55:46.524000",
                                        "2021-03-25T21:41:41.557000",
                                        "2021-03-25T22:22:57.264000",
                                        "2021-03-25T23:32:50.367000",
                                        "2021-03-26T00:32:10.278000",
                                        "2021-03-26T01:16:42.519000",
                                        "2021-03-26T02:05:39.846000",
                                        "2021-03-26T03:35:05.708000",
                                        "2021-03-26T04:19:26.746000",
                                        "2021-03-26T05:02:08.802000",
                                        "2021-03-26T06:32:31.085000",
                                        "2021-03-26T07:32:00.255000",
                                        "2021-03-26T08:29:31.998000",
                                        "2021-03-26T09:10:58.691000",
                                        "2021-03-26T10:13:53.203000",
                                        "2021-03-26T11:02:02.614000",
                                        "2021-03-26T12:13:19.797000",
                                        "2021-03-26T13:02:54.928000",
                                        "2021-03-26T14:15:45.895000",
                                        "2021-03-26T15:14:20.225000",
                                        "2021-03-26T16:33:37.918000",
                                        "2021-03-26T17:16:13.007000",
                                        "2021-03-26T18:04:15.019000",
                                        "2021-03-26T19:20:57.339000",
                                        "2021-03-26T20:26:44.418000",
                                        "2021-03-26T21:12:28.935000",
                                        "2021-03-26T22:07:27.024000",
                                        "2021-03-26T23:02:18.147000",
                                        "2021-03-27T00:23:21.964000",
                                        "2021-03-27T01:31:41.870000",
                                        "2021-03-27T02:32:15.025000",
                                        "2021-03-27T03:33:43.318000",
                                        "2021-03-27T04:35:56.494000",
                                        "2021-03-27T05:19:56.379000",
                                        "2021-03-27T06:14:11.956000",
                                        "2021-03-27T07:04:14.736000",
                                        "2021-03-27T08:28:48.998000",
                                        "2021-03-27T09:23:42.766000",
                                        "2021-03-27T10:31:10.909000",
                                        "2021-03-27T11:05:42.046000",
                                        "2021-03-27T12:15:23.912000",
                                        "2021-03-27T13:29:50.517000",
                                        "2021-03-27T14:00:46.083000",
                                        "2021-03-27T15:18:17.916000",
                                        "2021-03-27T16:12:31.509000",
                                        "2021-03-27T17:15:49.655000",
                                        "2021-03-27T18:32:55.383000",
                                        "2021-03-27T19:08:28.900000",
                                        "2021-03-27T20:02:35.222000",
                                        "2021-03-27T21:09:11.680000",
                                        "2021-03-27T22:23:02.288000",
                                        "2021-03-27T23:30:31.953000",
                                        "2021-03-28T00:05:55.891000",
                                        "2021-03-28T01:07:59.594000",
                                        "2021-03-28T02:02:27.344000",
                                        "2021-03-28T03:02:33.334000",
                                        "2021-03-28T04:02:29.299000",
                                        "2021-03-28T05:09:49.740000",
                                        "2021-03-28T06:04:31.063000",
                                        "2021-03-28T07:01:57.120000",
                                        "2021-03-28T08:15:03.266000",
                                        "2021-03-28T09:05:21.672000",
                                        "2021-03-28T10:04:30.022000",
                                        "2021-03-28T11:11:36.171000",
                                        "2021-03-28T12:01:00.609000",
                                        "2021-03-28T13:12:55.671000",
                                        "2021-03-28T14:10:25.680000",
                                        "2021-03-28T15:08:28.339000",
                                        "2021-03-28T16:08:11.245000",
                                        "2021-03-28T17:04:28.774000",
                                        "2021-03-28T18:08:48.589000",
                                        "2021-03-28T19:10:17.015000",
                                        "2021-03-28T20:15:26.306000",
                                        "2021-03-28T21:17:26.988000",
                                        "2021-03-28T22:18:52.159000",
                                        "2021-03-28T23:07:04.646000",
                                        "2021-03-29T00:01:30.633000",
                                        "2021-03-29T01:17:53.292000",
                                        "2021-03-29T02:16:49.069000",
                                        "2021-03-29T03:13:32.376000",
                                        "2021-03-29T04:07:53.356000",
                                        "2021-03-29T05:12:00.043000",
                                        "2021-03-29T06:04:13.633000",
                                        "2021-03-29T07:18:52.847000",
                                        "2021-03-29T08:06:01.174000",
                                        "2021-03-29T09:03:04.190000",
                                        "2021-03-29T10:08:34.706000",
                                        "2021-03-29T11:07:19.392000",
                                        "2021-03-29T12:13:28.464000",
                                        "2021-03-29T13:10:35.434000",
                                        "2021-03-29T14:10:39.238000",
                                        "2021-03-29T15:07:28.415000",
                                        "2021-03-29T16:06:43.237000",
                                        "2021-03-29T17:20:08.185000",
                                        "2021-03-29T18:02:32.521000",
                                        "2021-03-29T19:11:13.768000",
                                        "2021-03-29T20:16:53.636000",
                                        "2021-03-29T21:18:13.432000",
                                        "2021-03-29T22:06:45.633000",
                                        "2021-03-29T23:02:34.552000",
                                        "2021-03-30T00:12:31.785000",
                                        "2021-03-30T01:03:10.645000",
                                        "2021-03-30T02:06:29.206000",
                                        "2021-03-30T03:02:25.450000",
                                        "2021-03-30T04:01:57.393000",
                                        "2021-03-30T05:16:38.730000",
                                        "2021-03-30T06:15:24.632000",
                                        "2021-03-30T07:13:17.937000",
                                        "2021-03-30T08:01:36.417000",
                                        "2021-03-30T09:18:29.177000",
                                        "2021-03-30T10:17:30.146000",
                                        "2021-03-30T11:03:48.966000",
                                        "2021-03-30T12:08:11.711000",
                                        "2021-03-30T13:17:42.532000",
                                        "2021-03-30T14:05:44.250000",
                                        "2021-03-30T15:20:17.213000",
                                        "2021-03-30T16:09:14.726000",
                                        "2021-03-30T17:10:06.604000",
                                        "2021-03-30T18:20:49.903000",
                                        "2021-03-30T19:11:49.300000",
                                        "2021-03-30T20:07:40.533000",
                                        "2021-03-30T21:12:11.266000",
                                        "2021-03-30T22:06:44.697000",
                                        "2021-03-30T23:22:49.750000",
                                        "2021-03-31T00:03:50.895000",
                                        "2021-03-31T01:13:32.294000",
                                        "2021-03-31T02:12:46.729000",
                                        "2021-03-31T03:18:57.753000",
                                        "2021-03-31T04:13:38.834000",
                                        "2021-03-31T05:04:10.380000",
                                        "2021-03-31T06:13:30.507000",
                                        "2021-03-31T07:17:50.790000",
                                        "2021-03-31T08:36:18.318000",
                                        "2021-03-31T09:17:46.092000",
                                        "2021-03-31T10:02:40.799000",
                                        "2021-03-31T11:19:00.784000",
                                        "2021-03-31T12:06:23.625000",
                                        "2021-03-31T13:18:41.671000",
                                        "2021-03-31T14:12:59.871000",
                                        "2021-03-31T15:13:12.186000",
                                        "2021-03-31T16:04:57.727000",
                                        "2021-03-31T17:10:20.877000",
                                        "2021-03-31T18:07:57.919000",
                                        "2021-03-31T19:14:13.085000",
                                        "2021-03-31T20:20:20.274000",
                                        "2021-03-31T21:02:19.506000",
                                        "2021-03-31T22:19:55.967000",
                                        "2021-03-31T23:04:44.037000",
                                        "2021-04-01T00:07:25.796000",
                                        "2021-04-01T01:01:23.818000",
                                        "2021-04-01T02:19:11.992000",
                                        "2021-04-01T03:10:54.378000",
                                        "2021-04-01T04:08:18.917000",
                                        "2021-04-01T05:13:15.987000",
                                        "2021-04-01T06:10:26.896000",
                                        "2021-04-01T07:09:21.273000",
                                        "2021-04-01T08:02:04.564000",
                                        "2021-04-01T09:05:20.011000",
                                        "2021-04-01T10:01:10.041000",
                                        "2021-04-01T11:18:25.591000",
                                        "2021-04-01T12:13:42.759000",
                                        "2021-04-01T13:17:09.260000",
                                        "2021-04-01T14:10:42.115000",
                                        "2021-04-01T15:14:39.854000",
                                        "2021-04-01T16:11:14.324000",
                                        "2021-04-01T17:17:39.658000",
                                        "2021-04-01T18:19:34.097000",
                                        "2021-04-01T19:17:09.938000",
                                        "2021-04-01T20:00:48.425000",
                                        "2021-04-01T21:14:52.196000",
                                        "2021-04-01T22:10:51.384000",
                                        "2021-04-01T23:18:12.425000",
                                        "2021-04-02T00:19:07.251000",
                                        "2021-04-02T01:06:12.590000",
                                        "2021-04-02T02:06:46.376000",
                                        "2021-04-02T03:13:26.284000",
                                        "2021-04-02T04:06:54.247000",
                                        "2021-04-02T05:02:21.861000",
                                        "2021-04-02T06:01:57.637000",
                                        "2021-04-02T07:17:54.924000",
                                        "2021-04-02T08:18:52.469000",
                                        "2021-04-02T09:15:38.442000",
                                        "2021-04-02T10:30:41.974000",
                                        "2021-04-02T11:03:07.036000",
                                        "2021-04-02T12:08:56.451000",
                                        "2021-04-02T13:14:25.342000",
                                        "2021-04-02T14:05:58.222000",
                                        "2021-04-02T15:16:37.093000",
                                        "2021-04-02T16:11:06.125000",
                                        "2021-04-02T17:02:06.554000",
                                        "2021-04-02T18:09:27.819000",
                                        "2021-04-02T19:02:38.842000",
                                        "2021-04-02T20:02:27.051000",
                                        "2021-04-02T21:01:21.964000",
                                        "2021-04-02T22:10:51.583000",
                                        "2021-04-02T23:01:21.989000",
                                        "2021-04-03T00:28:46.836000",
                                        "2021-04-03T01:03:55.470000",
                                        "2021-04-03T02:13:00.643000",
                                        "2021-04-03T03:04:40.079000",
                                        "2021-04-03T04:26:52.999000",
                                        "2021-04-03T05:14:02.032000",
                                        "2021-04-03T06:02:04.170000",
                                        "2021-04-03T07:07:47.443000",
                                        "2021-04-03T08:07:52.135000",
                                        "2021-04-03T09:11:03.755000",
                                        "2021-04-03T10:03:44.902000",
                                        "2021-04-03T11:13:41.265000",
                                        "2021-04-03T12:12:54.389000",
                                        "2021-04-03T13:02:36.111000",
                                        "2021-04-03T14:01:45.822000",
                                        "2021-04-03T15:07:12.313000",
                                        "2021-04-03T16:13:26.142000",
                                        "2021-04-03T17:05:35.587000",
                                        "2021-04-03T18:08:32.481000",
                                        "2021-04-03T19:03:20.222000",
                                        "2021-04-03T20:02:04.803000",
                                        "2021-04-03T21:02:31.714000",
                                        "2021-04-03T22:07:00.749000",
                                        "2021-04-03T23:02:28.104000",
                                        "2021-04-04T00:09:27.288000",
                                        "2021-04-04T01:24:24.555000",
                                        "2021-04-04T02:31:59.510000",
                                        "2021-04-04T03:37:18.359000",
                                        "2021-04-04T04:32:05.477000",
                                        "2021-04-04T05:02:10.592000",
                                        "2021-04-04T06:03:04.924000",
                                        "2021-04-04T07:01:39.291000",
                                        "2021-04-04T08:03:50.230000",
                                        "2021-04-04T09:01:27.410000",
                                        "2021-04-04T10:01:32.127000",
                                        "2021-04-04T11:05:45.051000",
                                        "2021-04-04T12:01:58.041000",
                                        "2021-04-04T13:04:31.040000",
                                        "2021-04-04T14:03:38.116000",
                                        "2021-04-04T15:06:17.105000",
                                        "2021-04-04T16:07:33.629000",
                                        "2021-04-04T17:03:12.369000",
                                        "2021-04-04T18:01:18.598000",
                                        "2021-04-04T19:03:30.833000",
                                        "2021-04-04T20:03:55.263000",
                                        "2021-04-04T21:05:30.282000",
                                        "2021-04-04T22:02:17.649000",
                                        "2021-04-04T23:04:24.292000",
                                        "2021-04-05T00:05:02.876000",
                                        "2021-04-05T01:01:48.137000",
                                        "2021-04-05T02:01:33.176000",
                                        "2021-04-05T03:02:50.029000",
                                        "2021-04-05T04:02:00.295000",
                                        "2021-04-05T05:05:57.738000",
                                        "2021-04-05T06:01:53.434000",
                                        "2021-04-05T07:04:36.448000",
                                        "2021-04-05T08:05:03.254000",
                                        "2021-04-05T09:02:17.542000",
                                        "2021-04-05T10:08:29.725000",
                                        "2021-04-05T11:07:31.328000",
                                        "2021-04-05T12:06:34.822000",
                                        "2021-04-05T13:02:03.529000",
                                        "2021-04-05T14:00:45.919000",
                                        "2021-04-05T15:03:17.096000",
                                        "2021-04-05T16:01:04.443000",
                                        "2021-04-05T17:03:30.396000",
                                        "2021-04-05T18:04:26.889000",
                                        "2021-04-05T19:01:54.803000",
                                        "2021-04-05T20:02:39.467000",
                                        "2021-04-05T21:03:23.399000",
                                        "2021-04-05T22:04:24.773000",
                                        "2021-04-05T23:05:05.558000",
                                        "2021-04-06T00:04:53.830000",
                                        "2021-04-06T01:31:57.177000",
                                        "2021-04-06T02:03:08.102000",
                                        "2021-04-06T03:01:16.379000",
                                        "2021-04-06T04:00:29.319000",
                                        "2021-04-06T05:05:09.685000",
                                        "2021-04-06T06:04:19.020000",
                                        "2021-04-06T07:02:24.445000",
                                        "2021-04-06T08:06:44.404000",
                                        "2021-04-06T09:05:03.949000",
                                        "2021-04-06T10:03:58.437000",
                                        "2021-04-06T11:03:54.510000",
                                        "2021-04-06T12:02:12.087000",
                                        "2021-04-06T13:04:31.898000",
                                        "2021-04-06T14:05:44.437000",
                                        "2021-04-06T15:04:39.980000",
                                        "2021-04-06T16:02:47.811000",
                                        "2021-04-06T17:06:10.233000",
                                        "2021-04-06T18:06:24.643000",
                                        "2021-04-06T19:06:15.341000",
                                        "2021-04-06T20:01:30.391000",
                                        "2021-04-06T21:01:47.406000",
                                        "2021-04-06T22:06:55.588000",
                                        "2021-04-06T23:02:49.915000",
                                        "2021-04-07T00:09:01.720000",
                                        "2021-04-07T01:03:01.948000",
                                        "2021-04-07T02:03:47.788000",
                                        "2021-04-07T03:04:57.270000",
                                        "2021-04-07T04:02:17.159000",
                                        "2021-04-07T05:04:03.193000",
                                        "2021-04-07T06:04:15.622000",
                                        "2021-04-07T07:04:01.148000",
                                        "2021-04-07T08:01:57.775000",
                                        "2021-04-07T09:02:51.269000",
                                        "2021-04-07T10:06:23.349000",
                                        "2021-04-07T11:05:33.771000",
                                        "2021-04-07T12:02:37.648000",
                                        "2021-04-07T13:07:40.567000",
                                        "2021-04-07T14:06:52.316000",
                                        "2021-04-07T15:01:22.087000",
                                        "2021-04-07T16:07:00.156000",
                                        "2021-04-07T17:05:19.127000",
                                        "2021-04-07T18:04:23.110000",
                                        "2021-04-07T19:02:45.641000",
                                        "2021-04-07T20:01:41.377000",
                                        "2021-04-07T21:07:05.369000",
                                        "2021-04-07T22:01:27.344000",
                                        "2021-04-07T23:01:51.453000",
                                        "2021-04-08T00:05:05.905000",
                                        "2021-04-08T01:04:57.129000",
                                        "2021-04-08T02:07:48.329000",
                                        "2021-04-08T02:45:11.898000",
                                        "2021-04-08T03:21:02.936000",
                                        "2021-04-08T04:06:59.655000",
                                        "2021-04-08T05:02:15.400000",
                                        "2021-04-08T06:12:01.266000",
                                        "2021-04-08T07:06:35.799000",
                                        "2021-04-08T08:02:19.834000",
                                        "2021-04-08T09:04:55.579000",
                                        "2021-04-08T10:05:18.306000",
                                        "2021-04-08T11:07:24.757000",
                                        "2021-04-08T12:01:16.956000",
                                        "2021-04-08T13:06:16.904000",
                                        "2021-04-08T14:02:23.465000",
                                        "2021-04-08T15:04:11.421000",
                                        "2021-04-08T16:03:11.204000",
                                        "2021-04-08T17:01:55.072000",
                                        "2021-04-08T18:02:11.469000",
                                        "2021-04-08T19:05:59.730000",
                                        "2021-04-08T20:02:48.837000",
                                        "2021-04-08T21:06:46.984000",
                                        "2021-04-08T22:05:18.586000",
                                        "2021-04-08T23:09:38.495000",
                                        "2021-04-09T00:01:58.358000",
                                        "2021-04-09T01:03:51.697000",
                                        "2021-04-09T02:03:37.953000",
                                        "2021-04-09T03:02:45.249000",
                                        "2021-04-09T04:05:00.974000",
                                        "2021-04-09T05:02:47.637000",
                                        "2021-04-09T06:04:43.942000",
                                        "2021-04-09T07:01:03.094000",
                                        "2021-04-09T08:04:10.198000",
                                        "2021-04-09T09:04:29.243000",
                                        "2021-04-09T10:05:22.232000",
                                        "2021-04-09T11:02:35.377000",
                                        "2021-04-09T12:08:59.903000",
                                        "2021-04-09T13:03:47.352000",
                                        "2021-04-09T14:14:08.498000",
                                        "2021-04-09T15:06:25.376000",
                                        "2021-04-09T16:04:06.189000",
                                        "2021-04-09T17:07:40.532000",
                                        "2021-04-09T18:02:04.458000",
                                        "2021-04-09T19:02:05.433000",
                                        "2021-04-09T20:06:44.447000",
                                        "2021-04-09T21:02:44.550000",
                                        "2021-04-09T22:07:23.750000",
                                        "2021-04-09T23:06:57.562000",
                                        "2021-04-10T00:05:35.549000",
                                        "2021-04-10T01:05:00.568000",
                                        "2021-04-10T02:01:21.341000",
                                        "2021-04-10T03:01:03.776000",
                                        "2021-04-10T04:05:28.289000",
                                        "2021-04-10T05:07:02.241000",
                                        "2021-04-10T06:01:47.438000",
                                        "2021-04-10T07:04:00.991000",
                                        "2021-04-10T08:07:14.459000",
                                        "2021-04-10T09:06:25.027000",
                                        "2021-04-10T10:01:03.130000",
                                        "2021-04-10T11:01:51.635000",
                                        "2021-04-10T12:02:04.534000",
                                        "2021-04-10T13:04:57.067000",
                                        "2021-04-10T14:07:09.386000",
                                        "2021-04-10T15:04:18.987000",
                                        "2021-04-10T16:03:22.235000",
                                        "2021-04-10T17:04:24.346000",
                                        "2021-04-10T18:07:21.464000",
                                        "2021-04-10T19:04:33.787000",
                                        "2021-04-10T20:09:45.807000",
                                        "2021-04-10T21:05:05.433000",
                                        "2021-04-10T22:04:19.551000",
                                        "2021-04-10T23:04:05.817000",
                                        "2021-04-11T00:09:10.754000",
                                        "2021-04-11T01:04:03.488000",
                                        "2021-04-11T02:02:10.808000",
                                        "2021-04-11T03:02:08.905000",
                                        "2021-04-11T04:02:55.695000",
                                        "2021-04-11T05:02:37.204000",
                                        "2021-04-11T06:06:48.549000",
                                        "2021-04-11T07:02:18.536000",
                                        "2021-04-11T08:06:41.016000",
                                        "2021-04-11T09:03:31.677000",
                                        "2021-04-11T10:04:00.044000",
                                        "2021-04-11T11:05:43.839000",
                                        "2021-04-11T12:03:34.598000",
                                        "2021-04-11T13:01:44.742000",
                                        "2021-04-11T14:03:47.805000",
                                        "2021-04-11T15:01:50.592000",
                                        "2021-04-11T16:02:52.784000",
                                        "2021-04-11T17:01:01.181000",
                                        "2021-04-11T18:02:42.056000",
                                        "2021-04-11T19:05:21.722000",
                                        "2021-04-11T20:05:04.904000",
                                        "2021-04-11T21:01:32.679000",
                                        "2021-04-11T22:01:26.313000",
                                        "2021-04-11T23:06:09.803000",
                                        "2021-04-12T00:05:46.471000",
                                        "2021-04-12T01:00:52.755000",
                                        "2021-04-12T02:01:07.799000",
                                        "2021-04-12T03:01:49.663000",
                                        "2021-04-12T04:06:15.714000",
                                        "2021-04-12T05:03:04.356000",
                                        "2021-04-12T06:08:24.815000",
                                        "2021-04-12T07:06:18.699000",
                                        "2021-04-12T08:02:26.811000",
                                        "2021-04-12T09:07:25.849000",
                                        "2021-04-12T10:01:02.708000",
                                        "2021-04-12T11:04:33.056000",
                                        "2021-04-12T12:06:03.863000",
                                        "2021-04-12T13:08:22.097000",
                                        "2021-04-12T14:04:56.719000",
                                        "2021-04-12T15:06:16.621000",
                                        "2021-04-12T16:06:36.981000",
                                        "2021-04-12T17:04:23.013000",
                                        "2021-04-12T18:06:17.082000",
                                        "2021-04-12T19:07:23.436000",
                                        "2021-04-12T20:00:45.089000",
                                        "2021-04-12T21:03:59.665000",
                                        "2021-04-12T22:09:55.682000",
                                        "2021-04-12T23:06:20.138000",
                                        "2021-04-13T00:02:45.405000",
                                        "2021-04-13T01:07:09.311000",
                                        "2021-04-13T02:04:20.878000",
                                        "2021-04-13T03:05:20.815000",
                                        "2021-04-13T04:05:44.216000",
                                        "2021-04-13T05:02:52.070000",
                                        "2021-04-13T06:14:03.828000",
                                        "2021-04-13T07:04:14.159000",
                                        "2021-04-13T08:03:23.611000",
                                        "2021-04-13T09:04:56.724000",
                                        "2021-04-13T10:11:56.961000",
                                        "2021-04-13T11:09:11.941000",
                                        "2021-04-13T12:01:42.758000",
                                        "2021-04-13T13:03:33.315000",
                                        "2021-04-13T14:07:47.335000",
                                        "2021-04-13T15:01:41.733000",
                                        "2021-04-13T16:05:24.005000",
                                        "2021-04-13T17:05:37.848000",
                                        "2021-04-13T18:08:35.950000",
                                        "2021-04-13T19:03:58.154000",
                                        "2021-04-13T20:04:51.450000",
                                        "2021-04-13T21:04:55.997000",
                                        "2021-04-13T22:07:20.232000",
                                        "2021-04-13T23:01:43.364000",
                                        "2021-04-14T00:04:49.100000",
                                        "2021-04-14T01:08:25.991000",
                                        "2021-04-14T02:01:45.070000",
                                        "2021-04-14T03:07:06.007000",
                                        "2021-04-14T04:02:49.554000",
                                        "2021-04-14T05:06:57.135000",
                                        "2021-04-14T06:01:28.829000",
                                        "2021-04-14T07:02:32.884000",
                                        "2021-04-14T08:10:31.335000",
                                        "2021-04-14T09:07:51.597000",
                                        "2021-04-14T10:09:36.401000",
                                        "2021-04-14T11:10:21.536000",
                                        "2021-04-14T12:09:10.234000",
                                        "2021-04-14T13:10:34.965000",
                                        "2021-04-14T14:03:30.413000",
                                        "2021-04-14T15:04:06.629000",
                                        "2021-04-14T16:02:40.904000",
                                        "2021-04-14T17:05:21.551000",
                                        "2021-04-14T18:07:54.308000",
                                        "2021-04-14T19:03:26.676000",
                                        "2021-04-14T20:07:47.816000",
                                        "2021-04-14T21:09:40.169000",
                                        "2021-04-14T22:01:08.942000",
                                        "2021-04-14T23:06:02.269000",
                                        "2021-04-15T00:02:17.479000",
                                        "2021-04-15T01:03:42.419000",
                                        "2021-04-15T02:04:17.369000",
                                        "2021-04-15T03:05:27.482000",
                                        "2021-04-15T04:04:00.264000",
                                        "2021-04-15T05:02:53.214000",
                                        "2021-04-15T06:05:06.096000",
                                        "2021-04-15T07:02:54.569000",
                                        "2021-04-15T08:02:27.129000",
                                        "2021-04-15T09:04:29.052000",
                                        "2021-04-15T10:04:52.336000",
                                        "2021-04-15T11:03:50.546000",
                                        "2021-04-15T12:07:35.444000",
                                        "2021-04-15T13:10:00.343000",
                                        "2021-04-15T14:01:04.903000",
                                        "2021-04-15T15:04:13.863000",
                                        "2021-04-15T16:34:51.663000",
                                        "2021-04-15T17:09:28.120000",
                                        "2021-04-15T18:01:02.072000",
                                        "2021-04-15T19:02:26.341000",
                                        "2021-04-15T20:02:57.103000",
                                        "2021-04-15T21:04:15.322000",
                                        "2021-04-15T22:02:07.145000",
                                        "2021-04-15T23:06:25.431000",
                                        "2021-04-16T00:05:30.730000",
                                        "2021-04-16T01:08:26.273000",
                                        "2021-04-16T02:04:51.392000",
                                        "2021-04-16T03:05:59.660000",
                                        "2021-04-16T04:05:28.262000",
                                        "2021-04-16T05:11:28.018000",
                                        "2021-04-16T06:16:07.074000",
                                        "2021-04-16T07:02:54.219000",
                                        "2021-04-16T08:02:31.734000",
                                        "2021-04-16T09:30:45.037000",
                                        "2021-04-16T10:01:54.247000",
                                        "2021-04-16T11:20:31.657000",
                                        "2021-04-16T12:11:44.991000",
                                        "2021-04-16T13:08:01.013000",
                                        "2021-04-16T14:04:56.185000",
                                        "2021-04-16T15:03:50.180000",
                                        "2021-04-16T16:09:40.744000",
                                        "2021-04-16T16:20:54"
                                    ]
                                }
                            ],
                            "layout": {
                                "autosize": true,
                                "template": {
                                    "data": {
                                        "bar": [
                                            {
                                                "error_x": {
                                                    "color": "#2a3f5f"
                                                },
                                                "error_y": {
                                                    "color": "#2a3f5f"
                                                },
                                                "marker": {
                                                    "line": {
                                                        "color": "#E5ECF6",
                                                        "width": 0.5
                                                    }
                                                },
                                                "type": "bar"
                                            }
                                        ],
                                        "barpolar": [
                                            {
                                                "marker": {
                                                    "line": {
                                                        "color": "#E5ECF6",
                                                        "width": 0.5
                                                    }
                                                },
                                                "type": "barpolar"
                                            }
                                        ],
                                        "carpet": [
                                            {
                                                "aaxis": {
                                                    "endlinecolor": "#2a3f5f",
                                                    "gridcolor": "white",
                                                    "linecolor": "white",
                                                    "minorgridcolor": "white",
                                                    "startlinecolor": "#2a3f5f"
                                                },
                                                "baxis": {
                                                    "endlinecolor": "#2a3f5f",
                                                    "gridcolor": "white",
                                                    "linecolor": "white",
                                                    "minorgridcolor": "white",
                                                    "startlinecolor": "#2a3f5f"
                                                },
                                                "type": "carpet"
                                            }
                                        ],
                                        "choropleth": [
                                            {
                                                "colorbar": {
                                                    "outlinewidth": 0,
                                                    "ticks": ""
                                                },
                                                "type": "choropleth"
                                            }
                                        ],
                                        "contour": [
                                            {
                                                "colorbar": {
                                                    "outlinewidth": 0,
                                                    "ticks": ""
                                                },
                                                "colorscale": [
                                                    [
                                                        0,
                                                        "#0d0887"
                                                    ],
                                                    [
                                                        0.1111111111111111,
                                                        "#46039f"
                                                    ],
                                                    [
                                                        0.2222222222222222,
                                                        "#7201a8"
                                                    ],
                                                    [
                                                        0.3333333333333333,
                                                        "#9c179e"
                                                    ],
                                                    [
                                                        0.4444444444444444,
                                                        "#bd3786"
                                                    ],
                                                    [
                                                        0.5555555555555556,
                                                        "#d8576b"
                                                    ],
                                                    [
                                                        0.6666666666666666,
                                                        "#ed7953"
                                                    ],
                                                    [
                                                        0.7777777777777778,
                                                        "#fb9f3a"
                                                    ],
                                                    [
                                                        0.8888888888888888,
                                                        "#fdca26"
                                                    ],
                                                    [
                                                        1,
                                                        "#f0f921"
                                                    ]
                                                ],
                                                "type": "contour"
                                            }
                                        ],
                                        "contourcarpet": [
                                            {
                                                "colorbar": {
                                                    "outlinewidth": 0,
                                                    "ticks": ""
                                                },
                                                "type": "contourcarpet"
                                            }
                                        ],
                                        "heatmap": [
                                            {
                                                "colorbar": {
                                                    "outlinewidth": 0,
                                                    "ticks": ""
                                                },
                                                "colorscale": [
                                                    [
                                                        0,
                                                        "#0d0887"
                                                    ],
                                                    [
                                                        0.1111111111111111,
                                                        "#46039f"
                                                    ],
                                                    [
                                                        0.2222222222222222,
                                                        "#7201a8"
                                                    ],
                                                    [
                                                        0.3333333333333333,
                                                        "#9c179e"
                                                    ],
                                                    [
                                                        0.4444444444444444,
                                                        "#bd3786"
                                                    ],
                                                    [
                                                        0.5555555555555556,
                                                        "#d8576b"
                                                    ],
                                                    [
                                                        0.6666666666666666,
                                                        "#ed7953"
                                                    ],
                                                    [
                                                        0.7777777777777778,
                                                        "#fb9f3a"
                                                    ],
                                                    [
                                                        0.8888888888888888,
                                                        "#fdca26"
                                                    ],
                                                    [
                                                        1,
                                                        "#f0f921"
                                                    ]
                                                ],
                                                "type": "heatmap"
                                            }
                                        ],
                                        "heatmapgl": [
                                            {
                                                "colorbar": {
                                                    "outlinewidth": 0,
                                                    "ticks": ""
                                                },
                                                "colorscale": [
                                                    [
                                                        0,
                                                        "#0d0887"
                                                    ],
                                                    [
                                                        0.1111111111111111,
                                                        "#46039f"
                                                    ],
                                                    [
                                                        0.2222222222222222,
                                                        "#7201a8"
                                                    ],
                                                    [
                                                        0.3333333333333333,
                                                        "#9c179e"
                                                    ],
                                                    [
                                                        0.4444444444444444,
                                                        "#bd3786"
                                                    ],
                                                    [
                                                        0.5555555555555556,
                                                        "#d8576b"
                                                    ],
                                                    [
                                                        0.6666666666666666,
                                                        "#ed7953"
                                                    ],
                                                    [
                                                        0.7777777777777778,
                                                        "#fb9f3a"
                                                    ],
                                                    [
                                                        0.8888888888888888,
                                                        "#fdca26"
                                                    ],
                                                    [
                                                        1,
                                                        "#f0f921"
                                                    ]
                                                ],
                                                "type": "heatmapgl"
                                            }
                                        ],
                                        "histogram": [
                                            {
                                                "marker": {
                                                    "colorbar": {
                                                        "outlinewidth": 0,
                                                        "ticks": ""
                                                    }
                                                },
                                                "type": "histogram"
                                            }
                                        ],
                                        "histogram2d": [
                                            {
                                                "colorbar": {
                                                    "outlinewidth": 0,
                                                    "ticks": ""
                                                },
                                                "colorscale": [
                                                    [
                                                        0,
                                                        "#0d0887"
                                                    ],
                                                    [
                                                        0.1111111111111111,
                                                        "#46039f"
                                                    ],
                                                    [
                                                        0.2222222222222222,
                                                        "#7201a8"
                                                    ],
                                                    [
                                                        0.3333333333333333,
                                                        "#9c179e"
                                                    ],
                                                    [
                                                        0.4444444444444444,
                                                        "#bd3786"
                                                    ],
                                                    [
                                                        0.5555555555555556,
                                                        "#d8576b"
                                                    ],
                                                    [
                                                        0.6666666666666666,
                                                        "#ed7953"
                                                    ],
                                                    [
                                                        0.7777777777777778,
                                                        "#fb9f3a"
                                                    ],
                                                    [
                                                        0.8888888888888888,
                                                        "#fdca26"
                                                    ],
                                                    [
                                                        1,
                                                        "#f0f921"
                                                    ]
                                                ],
                                                "type": "histogram2d"
                                            }
                                        ],
                                        "histogram2dcontour": [
                                            {
                                                "colorbar": {
                                                    "outlinewidth": 0,
                                                    "ticks": ""
                                                },
                                                "colorscale": [
                                                    [
                                                        0,
                                                        "#0d0887"
                                                    ],
                                                    [
                                                        0.1111111111111111,
                                                        "#46039f"
                                                    ],
                                                    [
                                                        0.2222222222222222,
                                                        "#7201a8"
                                                    ],
                                                    [
                                                        0.3333333333333333,
                                                        "#9c179e"
                                                    ],
                                                    [
                                                        0.4444444444444444,
                                                        "#bd3786"
                                                    ],
                                                    [
                                                        0.5555555555555556,
                                                        "#d8576b"
                                                    ],
                                                    [
                                                        0.6666666666666666,
                                                        "#ed7953"
                                                    ],
                                                    [
                                                        0.7777777777777778,
                                                        "#fb9f3a"
                                                    ],
                                                    [
                                                        0.8888888888888888,
                                                        "#fdca26"
                                                    ],
                                                    [
                                                        1,
                                                        "#f0f921"
                                                    ]
                                                ],
                                                "type": "histogram2dcontour"
                                            }
                                        ],
                                        "mesh3d": [
                                            {
                                                "colorbar": {
                                                    "outlinewidth": 0,
                                                    "ticks": ""
                                                },
                                                "type": "mesh3d"
                                            }
                                        ],
                                        "parcoords": [
                                            {
                                                "line": {
                                                    "colorbar": {
                                                        "outlinewidth": 0,
                                                        "ticks": ""
                                                    }
                                                },
                                                "type": "parcoords"
                                            }
                                        ],
                                        "pie": [
                                            {
                                                "automargin": true,
                                                "type": "pie"
                                            }
                                        ],
                                        "scatter": [
                                            {
                                                "marker": {
                                                    "colorbar": {
                                                        "outlinewidth": 0,
                                                        "ticks": ""
                                                    }
                                                },
                                                "type": "scatter"
                                            }
                                        ],
                                        "scatter3d": [
                                            {
                                                "line": {
                                                    "colorbar": {
                                                        "outlinewidth": 0,
                                                        "ticks": ""
                                                    }
                                                },
                                                "marker": {
                                                    "colorbar": {
                                                        "outlinewidth": 0,
                                                        "ticks": ""
                                                    }
                                                },
                                                "type": "scatter3d"
                                            }
                                        ],
                                        "scattercarpet": [
                                            {
                                                "marker": {
                                                    "colorbar": {
                                                        "outlinewidth": 0,
                                                        "ticks": ""
                                                    }
                                                },
                                                "type": "scattercarpet"
                                            }
                                        ],
                                        "scattergeo": [
                                            {
                                                "marker": {
                                                    "colorbar": {
                                                        "outlinewidth": 0,
                                                        "ticks": ""
                                                    }
                                                },
                                                "type": "scattergeo"
                                            }
                                        ],
                                        "scattergl": [
                                            {
                                                "marker": {
                                                    "colorbar": {
                                                        "outlinewidth": 0,
                                                        "ticks": ""
                                                    }
                                                },
                                                "type": "scattergl"
                                            }
                                        ],
                                        "scattermapbox": [
                                            {
                                                "marker": {
                                                    "colorbar": {
                                                        "outlinewidth": 0,
                                                        "ticks": ""
                                                    }
                                                },
                                                "type": "scattermapbox"
                                            }
                                        ],
                                        "scatterpolar": [
                                            {
                                                "marker": {
                                                    "colorbar": {
                                                        "outlinewidth": 0,
                                                        "ticks": ""
                                                    }
                                                },
                                                "type": "scatterpolar"
                                            }
                                        ],
                                        "scatterpolargl": [
                                            {
                                                "marker": {
                                                    "colorbar": {
                                                        "outlinewidth": 0,
                                                        "ticks": ""
                                                    }
                                                },
                                                "type": "scatterpolargl"
                                            }
                                        ],
                                        "scatterternary": [
                                            {
                                                "marker": {
                                                    "colorbar": {
                                                        "outlinewidth": 0,
                                                        "ticks": ""
                                                    }
                                                },
                                                "type": "scatterternary"
                                            }
                                        ],
                                        "surface": [
                                            {
                                                "colorbar": {
                                                    "outlinewidth": 0,
                                                    "ticks": ""
                                                },
                                                "colorscale": [
                                                    [
                                                        0,
                                                        "#0d0887"
                                                    ],
                                                    [
                                                        0.1111111111111111,
                                                        "#46039f"
                                                    ],
                                                    [
                                                        0.2222222222222222,
                                                        "#7201a8"
                                                    ],
                                                    [
                                                        0.3333333333333333,
                                                        "#9c179e"
                                                    ],
                                                    [
                                                        0.4444444444444444,
                                                        "#bd3786"
                                                    ],
                                                    [
                                                        0.5555555555555556,
                                                        "#d8576b"
                                                    ],
                                                    [
                                                        0.6666666666666666,
                                                        "#ed7953"
                                                    ],
                                                    [
                                                        0.7777777777777778,
                                                        "#fb9f3a"
                                                    ],
                                                    [
                                                        0.8888888888888888,
                                                        "#fdca26"
                                                    ],
                                                    [
                                                        1,
                                                        "#f0f921"
                                                    ]
                                                ],
                                                "type": "surface"
                                            }
                                        ],
                                        "table": [
                                            {
                                                "cells": {
                                                    "fill": {
                                                        "color": "#EBF0F8"
                                                    },
                                                    "line": {
                                                        "color": "white"
                                                    }
                                                },
                                                "header": {
                                                    "fill": {
                                                        "color": "#C8D4E3"
                                                    },
                                                    "line": {
                                                        "color": "white"
                                                    }
                                                },
                                                "type": "table"
                                            }
                                        ]
                                    },
                                    "layout": {
                                        "annotationdefaults": {
                                            "arrowcolor": "#2a3f5f",
                                            "arrowhead": 0,
                                            "arrowwidth": 1
                                        },
                                        "autotypenumbers": "strict",
                                        "coloraxis": {
                                            "colorbar": {
                                                "outlinewidth": 0,
                                                "ticks": ""
                                            }
                                        },
                                        "colorscale": {
                                            "diverging": [
                                                [
                                                    0,
                                                    "#8e0152"
                                                ],
                                                [
                                                    0.1,
                                                    "#c51b7d"
                                                ],
                                                [
                                                    0.2,
                                                    "#de77ae"
                                                ],
                                                [
                                                    0.3,
                                                    "#f1b6da"
                                                ],
                                                [
                                                    0.4,
                                                    "#fde0ef"
                                                ],
                                                [
                                                    0.5,
                                                    "#f7f7f7"
                                                ],
                                                [
                                                    0.6,
                                                    "#e6f5d0"
                                                ],
                                                [
                                                    0.7,
                                                    "#b8e186"
                                                ],
                                                [
                                                    0.8,
                                                    "#7fbc41"
                                                ],
                                                [
                                                    0.9,
                                                    "#4d9221"
                                                ],
                                                [
                                                    1,
                                                    "#276419"
                                                ]
                                            ],
                                            "sequential": [
                                                [
                                                    0,
                                                    "#0d0887"
                                                ],
                                                [
                                                    0.1111111111111111,
                                                    "#46039f"
                                                ],
                                                [
                                                    0.2222222222222222,
                                                    "#7201a8"
                                                ],
                                                [
                                                    0.3333333333333333,
                                                    "#9c179e"
                                                ],
                                                [
                                                    0.4444444444444444,
                                                    "#bd3786"
                                                ],
                                                [
                                                    0.5555555555555556,
                                                    "#d8576b"
                                                ],
                                                [
                                                    0.6666666666666666,
                                                    "#ed7953"
                                                ],
                                                [
                                                    0.7777777777777778,
                                                    "#fb9f3a"
                                                ],
                                                [
                                                    0.8888888888888888,
                                                    "#fdca26"
                                                ],
                                                [
                                                    1,
                                                    "#f0f921"
                                                ]
                                            ],
                                            "sequentialminus": [
                                                [
                                                    0,
                                                    "#0d0887"
                                                ],
                                                [
                                                    0.1111111111111111,
                                                    "#46039f"
                                                ],
                                                [
                                                    0.2222222222222222,
                                                    "#7201a8"
                                                ],
                                                [
                                                    0.3333333333333333,
                                                    "#9c179e"
                                                ],
                                                [
                                                    0.4444444444444444,
                                                    "#bd3786"
                                                ],
                                                [
                                                    0.5555555555555556,
                                                    "#d8576b"
                                                ],
                                                [
                                                    0.6666666666666666,
                                                    "#ed7953"
                                                ],
                                                [
                                                    0.7777777777777778,
                                                    "#fb9f3a"
                                                ],
                                                [
                                                    0.8888888888888888,
                                                    "#fdca26"
                                                ],
                                                [
                                                    1,
                                                    "#f0f921"
                                                ]
                                            ]
                                        },
                                        "colorway": [
                                            "#636efa",
                                            "#EF553B",
                                            "#00cc96",
                                            "#ab63fa",
                                            "#FFA15A",
                                            "#19d3f3",
                                            "#FF6692",
                                            "#B6E880",
                                            "#FF97FF",
                                            "#FECB52"
                                        ],
                                        "font": {
                                            "color": "#2a3f5f"
                                        },
                                        "geo": {
                                            "bgcolor": "white",
                                            "lakecolor": "white",
                                            "landcolor": "#E5ECF6",
                                            "showlakes": true,
                                            "showland": true,
                                            "subunitcolor": "white"
                                        },
                                        "hoverlabel": {
                                            "align": "left"
                                        },
                                        "hovermode": "closest",
                                        "mapbox": {
                                            "style": "light"
                                        },
                                        "paper_bgcolor": "white",
                                        "plot_bgcolor": "#E5ECF6",
                                        "polar": {
                                            "angularaxis": {
                                                "gridcolor": "white",
                                                "linecolor": "white",
                                                "ticks": ""
                                            },
                                            "bgcolor": "#E5ECF6",
                                            "radialaxis": {
                                                "gridcolor": "white",
                                                "linecolor": "white",
                                                "ticks": ""
                                            }
                                        },
                                        "scene": {
                                            "xaxis": {
                                                "backgroundcolor": "#E5ECF6",
                                                "gridcolor": "white",
                                                "gridwidth": 2,
                                                "linecolor": "white",
                                                "showbackground": true,
                                                "ticks": "",
                                                "zerolinecolor": "white"
                                            },
                                            "yaxis": {
                                                "backgroundcolor": "#E5ECF6",
                                                "gridcolor": "white",
                                                "gridwidth": 2,
                                                "linecolor": "white",
                                                "showbackground": true,
                                                "ticks": "",
                                                "zerolinecolor": "white"
                                            },
                                            "zaxis": {
                                                "backgroundcolor": "#E5ECF6",
                                                "gridcolor": "white",
                                                "gridwidth": 2,
                                                "linecolor": "white",
                                                "showbackground": true,
                                                "ticks": "",
                                                "zerolinecolor": "white"
                                            }
                                        },
                                        "shapedefaults": {
                                            "line": {
                                                "color": "#2a3f5f"
                                            }
                                        },
                                        "ternary": {
                                            "aaxis": {
                                                "gridcolor": "white",
                                                "linecolor": "white",
                                                "ticks": ""
                                            },
                                            "baxis": {
                                                "gridcolor": "white",
                                                "linecolor": "white",
                                                "ticks": ""
                                            },
                                            "bgcolor": "#E5ECF6",
                                            "caxis": {
                                                "gridcolor": "white",
                                                "linecolor": "white",
                                                "ticks": ""
                                            }
                                        },
                                        "title": {
                                            "x": 0.05
                                        },
                                        "xaxis": {
                                            "automargin": true,
                                            "gridcolor": "white",
                                            "linecolor": "white",
                                            "ticks": "",
                                            "title": {
                                                "standoff": 15
                                            },
                                            "zerolinecolor": "white",
                                            "zerolinewidth": 2
                                        },
                                        "yaxis": {
                                            "automargin": true,
                                            "gridcolor": "white",
                                            "linecolor": "white",
                                            "ticks": "",
                                            "title": {
                                                "standoff": 15
                                            },
                                            "zerolinecolor": "white",
                                            "zerolinewidth": 2
                                        }
                                    }
                                },
                                "xaxis": {
                                    "autorange": true,
                                    "range": [
                                        "2021-03-17 16:35:18.867",
                                        "2021-03-18 23:55:16.256"
                                    ],
                                    "rangeslider": {
                                        "visible": false,
                                        "yaxis": {}
                                    },
                                    "type": "date"
                                },
                                "yaxis": {
                                    "autorange": true,
                                    "range": [
                                        50082.481398968725,
                                        65358.81034587818
                                    ]
                                }
                            }
                        },
                        "image/png": "[encoded data removed]",
                        "text/html": "<div>                            <div id=\"25d2f452-2e69-4668-bd19-6c82183f6870\" class=\"plotly-graph-div\" style=\"height:525px; width:100%;\"></div>            <script type=\"text/javascript\">                require([\"plotly\"], function(Plotly) {                    window.PLOTLYENV=window.PLOTLYENV || {};                                    if (document.getElementById(\"25d2f452-2e69-4668-bd19-6c82183f6870\")) {                    Plotly.newPlot(                        \"25d2f452-2e69-4668-bd19-6c82183f6870\",                        [{\"close\": [58639.388822757624, 57878.92647065825, 58520.49975505858, 58705.984897852395, 57811.50204628491, 54580.29868196107, 54528.10754392893, 52665.10448340395, 51741.475939379234, 54430.970894304104, 56050.468693711664, 55708.92724807546, 57695.0105528855, 58670.185194064696, 58659.81607908696, 58941.76510849229, 58893.001117410044, 57841.846706724886, 58120.98745488823, 58890.42933312271, 57990.630038086194, 56495.771344222034, 57925.518780866594, 58057.37194756994, 59181.335951811874, 60062.539344026925, 60091.49024165346, 63233.94854744293, 62945.15635224032, 63298.547035700794, 61419.989310588826], \"high\": [58690.53518386924, 60119.69282225918, 59337.51481886304, 60104.347056141916, 58593.554356274595, 58191.14606750297, 55701.85463369069, 56830.9327369185, 53277.374654964246, 54632.534114012815, 56313.7733320288, 56375.59365819968, 58179.65000175754, 59370.77224252133, 59749.04456614096, 59205.02016179689, 60086.89754589551, 59528.37892164109, 58183.71202960251, 59025.62077552239, 59037.33545469934, 58296.35781501513, 57957.14832967089, 58563.585721537915, 60865.80211839993, 60442.84904777686, 60774.26126925519, 63539.782572281576, 64594.9938985327, 63604.37720073516, 63467.43001569091], \"low\": [55464.53405988903, 57838.58222570468, 56570.868063677444, 58466.4126744696, 56127.53856499292, 54108.99610301334, 53728.74739472279, 52665.10448340395, 50846.2978463142, 51763.69444701034, 54356.88804430096, 54936.9795737789, 55136.437332020636, 57168.37695431903, 57827.356226587064, 58419.910794038595, 58694.958404414356, 57672.79807432743, 57008.11352582882, 57076.96249690862, 57846.95949107808, 56039.83051439416, 56134.41738866435, 57806.29874959166, 58089.16926938455, 59402.940555124434, 59671.33641024264, 59896.1663501267, 62020.81382429886, 62320.26566265919, 60497.97225721784], \"open\": [55464.53405988903, 59269.23466458064, 56570.868063677444, 58613.361490397234, 58593.554356274595, 57354.739920163214, 54370.137557895185, 54535.55208982534, 52656.93298940185, 51763.69444701034, 55662.59455207245, 55754.075819698795, 55856.53765470235, 57541.493889485166, 58668.628336761, 58772.18128166619, 58749.22565086035, 59528.37892164109, 57008.11352582882, 58228.802623466196, 58833.186957538484, 58013.39701271109, 56134.41738866435, 58065.644024815316, 58136.267623707194, 59787.312335644245, 60076.17415341904, 59896.1663501267, 63576.676041048275, 62807.12323259299, 63207.55307317802], \"type\": \"candlestick\", \"x\": [\"2021-03-17T17:00:37.382000\", \"2021-03-17T18:01:42.938000\", \"2021-03-17T19:07:10.978000\", \"2021-03-17T20:00:40.836000\", \"2021-03-17T21:04:19.385000\", \"2021-03-17T22:10:02.357000\", \"2021-03-17T23:03:20.886000\", \"2021-03-18T00:06:44.512000\", \"2021-03-18T01:05:19.412000\", \"2021-03-18T02:07:05.896000\", \"2021-03-18T03:08:08.067000\", \"2021-03-18T04:03:10.344000\", \"2021-03-18T05:05:33.137000\", \"2021-03-18T06:01:38.161000\", \"2021-03-18T07:06:58.150000\", \"2021-03-18T08:01:00.512000\", \"2021-03-18T09:00:58.686000\", \"2021-03-18T10:04:09.086000\", \"2021-03-18T11:03:01.728000\", \"2021-03-18T12:07:27.157000\", \"2021-03-18T13:09:19.580000\", \"2021-03-18T14:07:14.490000\", \"2021-03-18T15:05:25.050000\", \"2021-03-18T16:38:05.393000\", \"2021-03-18T17:36:50.968000\", \"2021-03-18T18:27:27.998000\", \"2021-03-18T19:28:33.523000\", \"2021-03-18T20:31:33.338000\", \"2021-03-18T21:29:51.808000\", \"2021-03-18T22:27:06.733000\", \"2021-03-18T23:29:57.741000\", \"2021-03-19T00:30:51.842000\", \"2021-03-19T01:19:57.687000\", \"2021-03-19T02:23:36.139000\", \"2021-03-19T03:25:39.430000\", \"2021-03-19T04:34:07.326000\", \"2021-03-19T05:29:56.029000\", \"2021-03-19T06:25:29.947000\", \"2021-03-19T07:26:11.830000\", \"2021-03-19T08:31:22.924000\", \"2021-03-19T09:22:54.807000\", \"2021-03-19T10:20:43.246000\", \"2021-03-19T11:25:34.889000\", \"2021-03-19T12:30:36.034000\", \"2021-03-19T13:08:47.042000\", \"2021-03-19T14:22:19.842000\", \"2021-03-19T15:31:46.864000\", \"2021-03-19T16:23:32.204000\", \"2021-03-19T17:33:57.724000\", \"2021-03-19T18:21:14.629000\", \"2021-03-19T19:09:15.307000\", \"2021-03-19T20:30:51.441000\", \"2021-03-19T21:27:55.261000\", \"2021-03-19T22:33:17.295000\", \"2021-03-19T23:17:14.783000\", \"2021-03-20T00:26:47.470000\", \"2021-03-20T01:18:52.891000\", \"2021-03-20T02:27:32.712000\", \"2021-03-20T03:08:32.003000\", \"2021-03-20T04:24:21.186000\", \"2021-03-20T05:10:15.786000\", \"2021-03-20T06:01:13.932000\", \"2021-03-20T07:06:34.014000\", \"2021-03-20T08:16:03.087000\", \"2021-03-20T09:03:28.311000\", \"2021-03-20T10:24:22.921000\", \"2021-03-20T11:04:01.353000\", \"2021-03-20T12:18:58.615000\", \"2021-03-20T13:34:50.948000\", \"2021-03-20T14:17:35.404000\", \"2021-03-20T15:29:49.107000\", \"2021-03-20T16:23:33.046000\", \"2021-03-20T17:18:31.195000\", \"2021-03-20T18:04:37.335000\", \"2021-03-20T19:22:07.212000\", \"2021-03-20T20:22:01.045000\", \"2021-03-20T21:22:05.249000\", \"2021-03-20T22:34:10.679000\", \"2021-03-20T23:29:53.885000\", \"2021-03-21T00:19:39.902000\", \"2021-03-21T01:03:25.657000\", \"2021-03-21T02:04:03.572000\", \"2021-03-21T03:06:51.828000\", \"2021-03-21T04:02:24.468000\", \"2021-03-21T05:07:59.836000\", \"2021-03-21T06:09:46.124000\", \"2021-03-21T07:08:44.524000\", \"2021-03-21T08:07:54.468000\", \"2021-03-21T09:00:51.670000\", \"2021-03-21T10:13:17.563000\", \"2021-03-21T11:08:57.717000\", \"2021-03-21T12:07:42.216000\", \"2021-03-21T13:00:56.647000\", \"2021-03-21T14:07:56.788000\", \"2021-03-21T15:07:44.204000\", \"2021-03-21T16:11:32.715000\", \"2021-03-21T17:04:50.056000\", \"2021-03-21T18:14:43.787000\", \"2021-03-21T19:09:27.776000\", \"2021-03-21T20:04:02.749000\", \"2021-03-21T21:00:58.951000\", \"2021-03-21T22:02:40.603000\", \"2021-03-21T23:02:08.232000\", \"2021-03-22T00:06:07.678000\", \"2021-03-22T01:14:01.815000\", \"2021-03-22T02:12:27.652000\", \"2021-03-22T03:04:59.973000\", \"2021-03-22T04:11:51.282000\", \"2021-03-22T05:04:17.772000\", \"2021-03-22T06:06:34.685000\", \"2021-03-22T07:14:31.283000\", \"2021-03-22T08:04:50.989000\", \"2021-03-22T09:10:08.628000\", \"2021-03-22T10:04:30.800000\", \"2021-03-22T11:07:07.987000\", \"2021-03-22T12:06:00.916000\", \"2021-03-22T13:14:28.346000\", \"2021-03-22T14:14:44.218000\", \"2021-03-22T15:01:57.074000\", \"2021-03-22T16:08:05.641000\", \"2021-03-22T17:05:15.113000\", \"2021-03-22T18:03:36.234000\", \"2021-03-22T19:10:45.129000\", \"2021-03-22T20:02:00.990000\", \"2021-03-22T21:10:43.176000\", \"2021-03-22T22:12:41.572000\", \"2021-03-22T23:02:09.952000\", \"2021-03-23T00:00:50.275000\", \"2021-03-23T01:04:59.721000\", \"2021-03-23T02:06:32.486000\", \"2021-03-23T03:09:24.967000\", \"2021-03-23T04:07:58.625000\", \"2021-03-23T05:14:08.041000\", \"2021-03-23T06:36:08.907000\", \"2021-03-23T07:33:33.671000\", \"2021-03-23T08:26:37.994000\", \"2021-03-23T09:23:24.414000\", \"2021-03-23T10:21:10.547000\", \"2021-03-23T11:20:48.432000\", \"2021-03-23T12:12:49.155000\", \"2021-03-23T13:32:12.522000\", \"2021-03-23T14:05:05.393000\", \"2021-03-23T15:32:49.375000\", \"2021-03-23T16:24:48.478000\", \"2021-03-23T17:12:29.518000\", \"2021-03-23T18:15:56.725000\", \"2021-03-23T19:15:16.776000\", \"2021-03-23T20:17:21.073000\", \"2021-03-23T21:27:00.666000\", \"2021-03-23T22:04:09.137000\", \"2021-03-23T23:13:24.682000\", \"2021-03-24T00:13:46.563000\", \"2021-03-24T01:34:11.113000\", \"2021-03-24T02:24:37.047000\", \"2021-03-24T03:21:16.322000\", \"2021-03-24T04:26:33.187000\", \"2021-03-24T05:20:40.600000\", \"2021-03-24T06:25:28.908000\", \"2021-03-24T07:23:27.949000\", \"2021-03-24T08:35:53.817000\", \"2021-03-24T09:32:47.528000\", \"2021-03-24T10:24:25.476000\", \"2021-03-24T11:24:11.563000\", \"2021-03-24T12:31:34.303000\", \"2021-03-24T13:18:48.462000\", \"2021-03-24T14:02:44.686000\", \"2021-03-24T15:31:51.730000\", \"2021-03-24T16:22:29.063000\", \"2021-03-24T17:35:06.267000\", \"2021-03-24T18:16:57.036000\", \"2021-03-24T19:19:01.795000\", \"2021-03-24T20:22:36.094000\", \"2021-03-24T21:14:09.563000\", \"2021-03-24T22:09:31.940000\", \"2021-03-24T23:12:46.824000\", \"2021-03-25T00:19:52.560000\", \"2021-03-25T01:17:30.274000\", \"2021-03-25T02:16:39.448000\", \"2021-03-25T03:06:25.603000\", \"2021-03-25T04:28:04.651000\", \"2021-03-25T05:17:42.508000\", \"2021-03-25T06:24:29.585000\", \"2021-03-25T07:37:19.908000\", \"2021-03-25T08:24:06.420000\", \"2021-03-25T09:17:16.016000\", \"2021-03-25T10:29:27.385000\", \"2021-03-25T11:10:27.143000\", \"2021-03-25T12:16:20.444000\", \"2021-03-25T13:16:17.475000\", \"2021-03-25T14:31:52.318000\", \"2021-03-25T15:23:20.136000\", \"2021-03-25T16:02:34.809000\", \"2021-03-25T17:12:13.928000\", \"2021-03-25T18:32:33.290000\", \"2021-03-25T20:28:16.702000\", \"2021-03-25T20:55:46.524000\", \"2021-03-25T21:41:41.557000\", \"2021-03-25T22:22:57.264000\", \"2021-03-25T23:32:50.367000\", \"2021-03-26T00:32:10.278000\", \"2021-03-26T01:16:42.519000\", \"2021-03-26T02:05:39.846000\", \"2021-03-26T03:35:05.708000\", \"2021-03-26T04:19:26.746000\", \"2021-03-26T05:02:08.802000\", \"2021-03-26T06:32:31.085000\", \"2021-03-26T07:32:00.255000\", \"2021-03-26T08:29:31.998000\", \"2021-03-26T09:10:58.691000\", \"2021-03-26T10:13:53.203000\", \"2021-03-26T11:02:02.614000\", \"2021-03-26T12:13:19.797000\", \"2021-03-26T13:02:54.928000\", \"2021-03-26T14:15:45.895000\", \"2021-03-26T15:14:20.225000\", \"2021-03-26T16:33:37.918000\", \"2021-03-26T17:16:13.007000\", \"2021-03-26T18:04:15.019000\", \"2021-03-26T19:20:57.339000\", \"2021-03-26T20:26:44.418000\", \"2021-03-26T21:12:28.935000\", \"2021-03-26T22:07:27.024000\", \"2021-03-26T23:02:18.147000\", \"2021-03-27T00:23:21.964000\", \"2021-03-27T01:31:41.870000\", \"2021-03-27T02:32:15.025000\", \"2021-03-27T03:33:43.318000\", \"2021-03-27T04:35:56.494000\", \"2021-03-27T05:19:56.379000\", \"2021-03-27T06:14:11.956000\", \"2021-03-27T07:04:14.736000\", \"2021-03-27T08:28:48.998000\", \"2021-03-27T09:23:42.766000\", \"2021-03-27T10:31:10.909000\", \"2021-03-27T11:05:42.046000\", \"2021-03-27T12:15:23.912000\", \"2021-03-27T13:29:50.517000\", \"2021-03-27T14:00:46.083000\", \"2021-03-27T15:18:17.916000\", \"2021-03-27T16:12:31.509000\", \"2021-03-27T17:15:49.655000\", \"2021-03-27T18:32:55.383000\", \"2021-03-27T19:08:28.900000\", \"2021-03-27T20:02:35.222000\", \"2021-03-27T21:09:11.680000\", \"2021-03-27T22:23:02.288000\", \"2021-03-27T23:30:31.953000\", \"2021-03-28T00:05:55.891000\", \"2021-03-28T01:07:59.594000\", \"2021-03-28T02:02:27.344000\", \"2021-03-28T03:02:33.334000\", \"2021-03-28T04:02:29.299000\", \"2021-03-28T05:09:49.740000\", \"2021-03-28T06:04:31.063000\", \"2021-03-28T07:01:57.120000\", \"2021-03-28T08:15:03.266000\", \"2021-03-28T09:05:21.672000\", \"2021-03-28T10:04:30.022000\", \"2021-03-28T11:11:36.171000\", \"2021-03-28T12:01:00.609000\", \"2021-03-28T13:12:55.671000\", \"2021-03-28T14:10:25.680000\", \"2021-03-28T15:08:28.339000\", \"2021-03-28T16:08:11.245000\", \"2021-03-28T17:04:28.774000\", \"2021-03-28T18:08:48.589000\", \"2021-03-28T19:10:17.015000\", \"2021-03-28T20:15:26.306000\", \"2021-03-28T21:17:26.988000\", \"2021-03-28T22:18:52.159000\", \"2021-03-28T23:07:04.646000\", \"2021-03-29T00:01:30.633000\", \"2021-03-29T01:17:53.292000\", \"2021-03-29T02:16:49.069000\", \"2021-03-29T03:13:32.376000\", \"2021-03-29T04:07:53.356000\", \"2021-03-29T05:12:00.043000\", \"2021-03-29T06:04:13.633000\", \"2021-03-29T07:18:52.847000\", \"2021-03-29T08:06:01.174000\", \"2021-03-29T09:03:04.190000\", \"2021-03-29T10:08:34.706000\", \"2021-03-29T11:07:19.392000\", \"2021-03-29T12:13:28.464000\", \"2021-03-29T13:10:35.434000\", \"2021-03-29T14:10:39.238000\", \"2021-03-29T15:07:28.415000\", \"2021-03-29T16:06:43.237000\", \"2021-03-29T17:20:08.185000\", \"2021-03-29T18:02:32.521000\", \"2021-03-29T19:11:13.768000\", \"2021-03-29T20:16:53.636000\", \"2021-03-29T21:18:13.432000\", \"2021-03-29T22:06:45.633000\", \"2021-03-29T23:02:34.552000\", \"2021-03-30T00:12:31.785000\", \"2021-03-30T01:03:10.645000\", \"2021-03-30T02:06:29.206000\", \"2021-03-30T03:02:25.450000\", \"2021-03-30T04:01:57.393000\", \"2021-03-30T05:16:38.730000\", \"2021-03-30T06:15:24.632000\", \"2021-03-30T07:13:17.937000\", \"2021-03-30T08:01:36.417000\", \"2021-03-30T09:18:29.177000\", \"2021-03-30T10:17:30.146000\", \"2021-03-30T11:03:48.966000\", \"2021-03-30T12:08:11.711000\", \"2021-03-30T13:17:42.532000\", \"2021-03-30T14:05:44.250000\", \"2021-03-30T15:20:17.213000\", \"2021-03-30T16:09:14.726000\", \"2021-03-30T17:10:06.604000\", \"2021-03-30T18:20:49.903000\", \"2021-03-30T19:11:49.300000\", \"2021-03-30T20:07:40.533000\", \"2021-03-30T21:12:11.266000\", \"2021-03-30T22:06:44.697000\", \"2021-03-30T23:22:49.750000\", \"2021-03-31T00:03:50.895000\", \"2021-03-31T01:13:32.294000\", \"2021-03-31T02:12:46.729000\", \"2021-03-31T03:18:57.753000\", \"2021-03-31T04:13:38.834000\", \"2021-03-31T05:04:10.380000\", \"2021-03-31T06:13:30.507000\", \"2021-03-31T07:17:50.790000\", \"2021-03-31T08:36:18.318000\", \"2021-03-31T09:17:46.092000\", \"2021-03-31T10:02:40.799000\", \"2021-03-31T11:19:00.784000\", \"2021-03-31T12:06:23.625000\", \"2021-03-31T13:18:41.671000\", \"2021-03-31T14:12:59.871000\", \"2021-03-31T15:13:12.186000\", \"2021-03-31T16:04:57.727000\", \"2021-03-31T17:10:20.877000\", \"2021-03-31T18:07:57.919000\", \"2021-03-31T19:14:13.085000\", \"2021-03-31T20:20:20.274000\", \"2021-03-31T21:02:19.506000\", \"2021-03-31T22:19:55.967000\", \"2021-03-31T23:04:44.037000\", \"2021-04-01T00:07:25.796000\", \"2021-04-01T01:01:23.818000\", \"2021-04-01T02:19:11.992000\", \"2021-04-01T03:10:54.378000\", \"2021-04-01T04:08:18.917000\", \"2021-04-01T05:13:15.987000\", \"2021-04-01T06:10:26.896000\", \"2021-04-01T07:09:21.273000\", \"2021-04-01T08:02:04.564000\", \"2021-04-01T09:05:20.011000\", \"2021-04-01T10:01:10.041000\", \"2021-04-01T11:18:25.591000\", \"2021-04-01T12:13:42.759000\", \"2021-04-01T13:17:09.260000\", \"2021-04-01T14:10:42.115000\", \"2021-04-01T15:14:39.854000\", \"2021-04-01T16:11:14.324000\", \"2021-04-01T17:17:39.658000\", \"2021-04-01T18:19:34.097000\", \"2021-04-01T19:17:09.938000\", \"2021-04-01T20:00:48.425000\", \"2021-04-01T21:14:52.196000\", \"2021-04-01T22:10:51.384000\", \"2021-04-01T23:18:12.425000\", \"2021-04-02T00:19:07.251000\", \"2021-04-02T01:06:12.590000\", \"2021-04-02T02:06:46.376000\", \"2021-04-02T03:13:26.284000\", \"2021-04-02T04:06:54.247000\", \"2021-04-02T05:02:21.861000\", \"2021-04-02T06:01:57.637000\", \"2021-04-02T07:17:54.924000\", \"2021-04-02T08:18:52.469000\", \"2021-04-02T09:15:38.442000\", \"2021-04-02T10:30:41.974000\", \"2021-04-02T11:03:07.036000\", \"2021-04-02T12:08:56.451000\", \"2021-04-02T13:14:25.342000\", \"2021-04-02T14:05:58.222000\", \"2021-04-02T15:16:37.093000\", \"2021-04-02T16:11:06.125000\", \"2021-04-02T17:02:06.554000\", \"2021-04-02T18:09:27.819000\", \"2021-04-02T19:02:38.842000\", \"2021-04-02T20:02:27.051000\", \"2021-04-02T21:01:21.964000\", \"2021-04-02T22:10:51.583000\", \"2021-04-02T23:01:21.989000\", \"2021-04-03T00:28:46.836000\", \"2021-04-03T01:03:55.470000\", \"2021-04-03T02:13:00.643000\", \"2021-04-03T03:04:40.079000\", \"2021-04-03T04:26:52.999000\", \"2021-04-03T05:14:02.032000\", \"2021-04-03T06:02:04.170000\", \"2021-04-03T07:07:47.443000\", \"2021-04-03T08:07:52.135000\", \"2021-04-03T09:11:03.755000\", \"2021-04-03T10:03:44.902000\", \"2021-04-03T11:13:41.265000\", \"2021-04-03T12:12:54.389000\", \"2021-04-03T13:02:36.111000\", \"2021-04-03T14:01:45.822000\", \"2021-04-03T15:07:12.313000\", \"2021-04-03T16:13:26.142000\", \"2021-04-03T17:05:35.587000\", \"2021-04-03T18:08:32.481000\", \"2021-04-03T19:03:20.222000\", \"2021-04-03T20:02:04.803000\", \"2021-04-03T21:02:31.714000\", \"2021-04-03T22:07:00.749000\", \"2021-04-03T23:02:28.104000\", \"2021-04-04T00:09:27.288000\", \"2021-04-04T01:24:24.555000\", \"2021-04-04T02:31:59.510000\", \"2021-04-04T03:37:18.359000\", \"2021-04-04T04:32:05.477000\", \"2021-04-04T05:02:10.592000\", \"2021-04-04T06:03:04.924000\", \"2021-04-04T07:01:39.291000\", \"2021-04-04T08:03:50.230000\", \"2021-04-04T09:01:27.410000\", \"2021-04-04T10:01:32.127000\", \"2021-04-04T11:05:45.051000\", \"2021-04-04T12:01:58.041000\", \"2021-04-04T13:04:31.040000\", \"2021-04-04T14:03:38.116000\", \"2021-04-04T15:06:17.105000\", \"2021-04-04T16:07:33.629000\", \"2021-04-04T17:03:12.369000\", \"2021-04-04T18:01:18.598000\", \"2021-04-04T19:03:30.833000\", \"2021-04-04T20:03:55.263000\", \"2021-04-04T21:05:30.282000\", \"2021-04-04T22:02:17.649000\", \"2021-04-04T23:04:24.292000\", \"2021-04-05T00:05:02.876000\", \"2021-04-05T01:01:48.137000\", \"2021-04-05T02:01:33.176000\", \"2021-04-05T03:02:50.029000\", \"2021-04-05T04:02:00.295000\", \"2021-04-05T05:05:57.738000\", \"2021-04-05T06:01:53.434000\", \"2021-04-05T07:04:36.448000\", \"2021-04-05T08:05:03.254000\", \"2021-04-05T09:02:17.542000\", \"2021-04-05T10:08:29.725000\", \"2021-04-05T11:07:31.328000\", \"2021-04-05T12:06:34.822000\", \"2021-04-05T13:02:03.529000\", \"2021-04-05T14:00:45.919000\", \"2021-04-05T15:03:17.096000\", \"2021-04-05T16:01:04.443000\", \"2021-04-05T17:03:30.396000\", \"2021-04-05T18:04:26.889000\", \"2021-04-05T19:01:54.803000\", \"2021-04-05T20:02:39.467000\", \"2021-04-05T21:03:23.399000\", \"2021-04-05T22:04:24.773000\", \"2021-04-05T23:05:05.558000\", \"2021-04-06T00:04:53.830000\", \"2021-04-06T01:31:57.177000\", \"2021-04-06T02:03:08.102000\", \"2021-04-06T03:01:16.379000\", \"2021-04-06T04:00:29.319000\", \"2021-04-06T05:05:09.685000\", \"2021-04-06T06:04:19.020000\", \"2021-04-06T07:02:24.445000\", \"2021-04-06T08:06:44.404000\", \"2021-04-06T09:05:03.949000\", \"2021-04-06T10:03:58.437000\", \"2021-04-06T11:03:54.510000\", \"2021-04-06T12:02:12.087000\", \"2021-04-06T13:04:31.898000\", \"2021-04-06T14:05:44.437000\", \"2021-04-06T15:04:39.980000\", \"2021-04-06T16:02:47.811000\", \"2021-04-06T17:06:10.233000\", \"2021-04-06T18:06:24.643000\", \"2021-04-06T19:06:15.341000\", \"2021-04-06T20:01:30.391000\", \"2021-04-06T21:01:47.406000\", \"2021-04-06T22:06:55.588000\", \"2021-04-06T23:02:49.915000\", \"2021-04-07T00:09:01.720000\", \"2021-04-07T01:03:01.948000\", \"2021-04-07T02:03:47.788000\", \"2021-04-07T03:04:57.270000\", \"2021-04-07T04:02:17.159000\", \"2021-04-07T05:04:03.193000\", \"2021-04-07T06:04:15.622000\", \"2021-04-07T07:04:01.148000\", \"2021-04-07T08:01:57.775000\", \"2021-04-07T09:02:51.269000\", \"2021-04-07T10:06:23.349000\", \"2021-04-07T11:05:33.771000\", \"2021-04-07T12:02:37.648000\", \"2021-04-07T13:07:40.567000\", \"2021-04-07T14:06:52.316000\", \"2021-04-07T15:01:22.087000\", \"2021-04-07T16:07:00.156000\", \"2021-04-07T17:05:19.127000\", \"2021-04-07T18:04:23.110000\", \"2021-04-07T19:02:45.641000\", \"2021-04-07T20:01:41.377000\", \"2021-04-07T21:07:05.369000\", \"2021-04-07T22:01:27.344000\", \"2021-04-07T23:01:51.453000\", \"2021-04-08T00:05:05.905000\", \"2021-04-08T01:04:57.129000\", \"2021-04-08T02:07:48.329000\", \"2021-04-08T02:45:11.898000\", \"2021-04-08T03:21:02.936000\", \"2021-04-08T04:06:59.655000\", \"2021-04-08T05:02:15.400000\", \"2021-04-08T06:12:01.266000\", \"2021-04-08T07:06:35.799000\", \"2021-04-08T08:02:19.834000\", \"2021-04-08T09:04:55.579000\", \"2021-04-08T10:05:18.306000\", \"2021-04-08T11:07:24.757000\", \"2021-04-08T12:01:16.956000\", \"2021-04-08T13:06:16.904000\", \"2021-04-08T14:02:23.465000\", \"2021-04-08T15:04:11.421000\", \"2021-04-08T16:03:11.204000\", \"2021-04-08T17:01:55.072000\", \"2021-04-08T18:02:11.469000\", \"2021-04-08T19:05:59.730000\", \"2021-04-08T20:02:48.837000\", \"2021-04-08T21:06:46.984000\", \"2021-04-08T22:05:18.586000\", \"2021-04-08T23:09:38.495000\", \"2021-04-09T00:01:58.358000\", \"2021-04-09T01:03:51.697000\", \"2021-04-09T02:03:37.953000\", \"2021-04-09T03:02:45.249000\", \"2021-04-09T04:05:00.974000\", \"2021-04-09T05:02:47.637000\", \"2021-04-09T06:04:43.942000\", \"2021-04-09T07:01:03.094000\", \"2021-04-09T08:04:10.198000\", \"2021-04-09T09:04:29.243000\", \"2021-04-09T10:05:22.232000\", \"2021-04-09T11:02:35.377000\", \"2021-04-09T12:08:59.903000\", \"2021-04-09T13:03:47.352000\", \"2021-04-09T14:14:08.498000\", \"2021-04-09T15:06:25.376000\", \"2021-04-09T16:04:06.189000\", \"2021-04-09T17:07:40.532000\", \"2021-04-09T18:02:04.458000\", \"2021-04-09T19:02:05.433000\", \"2021-04-09T20:06:44.447000\", \"2021-04-09T21:02:44.550000\", \"2021-04-09T22:07:23.750000\", \"2021-04-09T23:06:57.562000\", \"2021-04-10T00:05:35.549000\", \"2021-04-10T01:05:00.568000\", \"2021-04-10T02:01:21.341000\", \"2021-04-10T03:01:03.776000\", \"2021-04-10T04:05:28.289000\", \"2021-04-10T05:07:02.241000\", \"2021-04-10T06:01:47.438000\", \"2021-04-10T07:04:00.991000\", \"2021-04-10T08:07:14.459000\", \"2021-04-10T09:06:25.027000\", \"2021-04-10T10:01:03.130000\", \"2021-04-10T11:01:51.635000\", \"2021-04-10T12:02:04.534000\", \"2021-04-10T13:04:57.067000\", \"2021-04-10T14:07:09.386000\", \"2021-04-10T15:04:18.987000\", \"2021-04-10T16:03:22.235000\", \"2021-04-10T17:04:24.346000\", \"2021-04-10T18:07:21.464000\", \"2021-04-10T19:04:33.787000\", \"2021-04-10T20:09:45.807000\", \"2021-04-10T21:05:05.433000\", \"2021-04-10T22:04:19.551000\", \"2021-04-10T23:04:05.817000\", \"2021-04-11T00:09:10.754000\", \"2021-04-11T01:04:03.488000\", \"2021-04-11T02:02:10.808000\", \"2021-04-11T03:02:08.905000\", \"2021-04-11T04:02:55.695000\", \"2021-04-11T05:02:37.204000\", \"2021-04-11T06:06:48.549000\", \"2021-04-11T07:02:18.536000\", \"2021-04-11T08:06:41.016000\", \"2021-04-11T09:03:31.677000\", \"2021-04-11T10:04:00.044000\", \"2021-04-11T11:05:43.839000\", \"2021-04-11T12:03:34.598000\", \"2021-04-11T13:01:44.742000\", \"2021-04-11T14:03:47.805000\", \"2021-04-11T15:01:50.592000\", \"2021-04-11T16:02:52.784000\", \"2021-04-11T17:01:01.181000\", \"2021-04-11T18:02:42.056000\", \"2021-04-11T19:05:21.722000\", \"2021-04-11T20:05:04.904000\", \"2021-04-11T21:01:32.679000\", \"2021-04-11T22:01:26.313000\", \"2021-04-11T23:06:09.803000\", \"2021-04-12T00:05:46.471000\", \"2021-04-12T01:00:52.755000\", \"2021-04-12T02:01:07.799000\", \"2021-04-12T03:01:49.663000\", \"2021-04-12T04:06:15.714000\", \"2021-04-12T05:03:04.356000\", \"2021-04-12T06:08:24.815000\", \"2021-04-12T07:06:18.699000\", \"2021-04-12T08:02:26.811000\", \"2021-04-12T09:07:25.849000\", \"2021-04-12T10:01:02.708000\", \"2021-04-12T11:04:33.056000\", \"2021-04-12T12:06:03.863000\", \"2021-04-12T13:08:22.097000\", \"2021-04-12T14:04:56.719000\", \"2021-04-12T15:06:16.621000\", \"2021-04-12T16:06:36.981000\", \"2021-04-12T17:04:23.013000\", \"2021-04-12T18:06:17.082000\", \"2021-04-12T19:07:23.436000\", \"2021-04-12T20:00:45.089000\", \"2021-04-12T21:03:59.665000\", \"2021-04-12T22:09:55.682000\", \"2021-04-12T23:06:20.138000\", \"2021-04-13T00:02:45.405000\", \"2021-04-13T01:07:09.311000\", \"2021-04-13T02:04:20.878000\", \"2021-04-13T03:05:20.815000\", \"2021-04-13T04:05:44.216000\", \"2021-04-13T05:02:52.070000\", \"2021-04-13T06:14:03.828000\", \"2021-04-13T07:04:14.159000\", \"2021-04-13T08:03:23.611000\", \"2021-04-13T09:04:56.724000\", \"2021-04-13T10:11:56.961000\", \"2021-04-13T11:09:11.941000\", \"2021-04-13T12:01:42.758000\", \"2021-04-13T13:03:33.315000\", \"2021-04-13T14:07:47.335000\", \"2021-04-13T15:01:41.733000\", \"2021-04-13T16:05:24.005000\", \"2021-04-13T17:05:37.848000\", \"2021-04-13T18:08:35.950000\", \"2021-04-13T19:03:58.154000\", \"2021-04-13T20:04:51.450000\", \"2021-04-13T21:04:55.997000\", \"2021-04-13T22:07:20.232000\", \"2021-04-13T23:01:43.364000\", \"2021-04-14T00:04:49.100000\", \"2021-04-14T01:08:25.991000\", \"2021-04-14T02:01:45.070000\", \"2021-04-14T03:07:06.007000\", \"2021-04-14T04:02:49.554000\", \"2021-04-14T05:06:57.135000\", \"2021-04-14T06:01:28.829000\", \"2021-04-14T07:02:32.884000\", \"2021-04-14T08:10:31.335000\", \"2021-04-14T09:07:51.597000\", \"2021-04-14T10:09:36.401000\", \"2021-04-14T11:10:21.536000\", \"2021-04-14T12:09:10.234000\", \"2021-04-14T13:10:34.965000\", \"2021-04-14T14:03:30.413000\", \"2021-04-14T15:04:06.629000\", \"2021-04-14T16:02:40.904000\", \"2021-04-14T17:05:21.551000\", \"2021-04-14T18:07:54.308000\", \"2021-04-14T19:03:26.676000\", \"2021-04-14T20:07:47.816000\", \"2021-04-14T21:09:40.169000\", \"2021-04-14T22:01:08.942000\", \"2021-04-14T23:06:02.269000\", \"2021-04-15T00:02:17.479000\", \"2021-04-15T01:03:42.419000\", \"2021-04-15T02:04:17.369000\", \"2021-04-15T03:05:27.482000\", \"2021-04-15T04:04:00.264000\", \"2021-04-15T05:02:53.214000\", \"2021-04-15T06:05:06.096000\", \"2021-04-15T07:02:54.569000\", \"2021-04-15T08:02:27.129000\", \"2021-04-15T09:04:29.052000\", \"2021-04-15T10:04:52.336000\", \"2021-04-15T11:03:50.546000\", \"2021-04-15T12:07:35.444000\", \"2021-04-15T13:10:00.343000\", \"2021-04-15T14:01:04.903000\", \"2021-04-15T15:04:13.863000\", \"2021-04-15T16:34:51.663000\", \"2021-04-15T17:09:28.120000\", \"2021-04-15T18:01:02.072000\", \"2021-04-15T19:02:26.341000\", \"2021-04-15T20:02:57.103000\", \"2021-04-15T21:04:15.322000\", \"2021-04-15T22:02:07.145000\", \"2021-04-15T23:06:25.431000\", \"2021-04-16T00:05:30.730000\", \"2021-04-16T01:08:26.273000\", \"2021-04-16T02:04:51.392000\", \"2021-04-16T03:05:59.660000\", \"2021-04-16T04:05:28.262000\", \"2021-04-16T05:11:28.018000\", \"2021-04-16T06:16:07.074000\", \"2021-04-16T07:02:54.219000\", \"2021-04-16T08:02:31.734000\", \"2021-04-16T09:30:45.037000\", \"2021-04-16T10:01:54.247000\", \"2021-04-16T11:20:31.657000\", \"2021-04-16T12:11:44.991000\", \"2021-04-16T13:08:01.013000\", \"2021-04-16T14:04:56.185000\", \"2021-04-16T15:03:50.180000\", \"2021-04-16T16:09:40.744000\", \"2021-04-16T16:20:54\"]}],                        {\"template\": {\"data\": {\"bar\": [{\"error_x\": {\"color\": \"#2a3f5f\"}, \"error_y\": {\"color\": \"#2a3f5f\"}, \"marker\": {\"line\": {\"color\": \"#E5ECF6\", \"width\": 0.5}}, \"type\": \"bar\"}], \"barpolar\": [{\"marker\": {\"line\": {\"color\": \"#E5ECF6\", \"width\": 0.5}}, \"type\": \"barpolar\"}], \"carpet\": [{\"aaxis\": {\"endlinecolor\": \"#2a3f5f\", \"gridcolor\": \"white\", \"linecolor\": \"white\", \"minorgridcolor\": \"white\", \"startlinecolor\": \"#2a3f5f\"}, \"baxis\": {\"endlinecolor\": \"#2a3f5f\", \"gridcolor\": \"white\", \"linecolor\": \"white\", \"minorgridcolor\": \"white\", \"startlinecolor\": \"#2a3f5f\"}, \"type\": \"carpet\"}], \"choropleth\": [{\"colorbar\": {\"outlinewidth\": 0, \"ticks\": \"\"}, \"type\": \"choropleth\"}], \"contour\": [{\"colorbar\": {\"outlinewidth\": 0, \"ticks\": \"\"}, \"colorscale\": [[0.0, \"#0d0887\"], [0.1111111111111111, \"#46039f\"], [0.2222222222222222, \"#7201a8\"], [0.3333333333333333, \"#9c179e\"], [0.4444444444444444, \"#bd3786\"], [0.5555555555555556, \"#d8576b\"], [0.6666666666666666, \"#ed7953\"], [0.7777777777777778, \"#fb9f3a\"], [0.8888888888888888, \"#fdca26\"], [1.0, \"#f0f921\"]], \"type\": \"contour\"}], \"contourcarpet\": [{\"colorbar\": {\"outlinewidth\": 0, \"ticks\": \"\"}, \"type\": \"contourcarpet\"}], \"heatmap\": [{\"colorbar\": {\"outlinewidth\": 0, \"ticks\": \"\"}, \"colorscale\": [[0.0, \"#0d0887\"], [0.1111111111111111, \"#46039f\"], [0.2222222222222222, \"#7201a8\"], [0.3333333333333333, \"#9c179e\"], [0.4444444444444444, \"#bd3786\"], [0.5555555555555556, \"#d8576b\"], [0.6666666666666666, \"#ed7953\"], [0.7777777777777778, \"#fb9f3a\"], [0.8888888888888888, \"#fdca26\"], [1.0, \"#f0f921\"]], \"type\": \"heatmap\"}], \"heatmapgl\": [{\"colorbar\": {\"outlinewidth\": 0, \"ticks\": \"\"}, \"colorscale\": [[0.0, \"#0d0887\"], [0.1111111111111111, \"#46039f\"], [0.2222222222222222, \"#7201a8\"], [0.3333333333333333, \"#9c179e\"], [0.4444444444444444, \"#bd3786\"], [0.5555555555555556, \"#d8576b\"], [0.6666666666666666, \"#ed7953\"], [0.7777777777777778, \"#fb9f3a\"], [0.8888888888888888, \"#fdca26\"], [1.0, \"#f0f921\"]], \"type\": \"heatmapgl\"}], \"histogram\": [{\"marker\": {\"colorbar\": {\"outlinewidth\": 0, \"ticks\": \"\"}}, \"type\": \"histogram\"}], \"histogram2d\": [{\"colorbar\": {\"outlinewidth\": 0, \"ticks\": \"\"}, \"colorscale\": [[0.0, \"#0d0887\"], [0.1111111111111111, \"#46039f\"], [0.2222222222222222, \"#7201a8\"], [0.3333333333333333, \"#9c179e\"], [0.4444444444444444, \"#bd3786\"], [0.5555555555555556, \"#d8576b\"], [0.6666666666666666, \"#ed7953\"], [0.7777777777777778, \"#fb9f3a\"], [0.8888888888888888, \"#fdca26\"], [1.0, \"#f0f921\"]], \"type\": \"histogram2d\"}], \"histogram2dcontour\": [{\"colorbar\": {\"outlinewidth\": 0, \"ticks\": \"\"}, \"colorscale\": [[0.0, \"#0d0887\"], [0.1111111111111111, \"#46039f\"], [0.2222222222222222, \"#7201a8\"], [0.3333333333333333, \"#9c179e\"], [0.4444444444444444, \"#bd3786\"], [0.5555555555555556, \"#d8576b\"], [0.6666666666666666, \"#ed7953\"], [0.7777777777777778, \"#fb9f3a\"], [0.8888888888888888, \"#fdca26\"], [1.0, \"#f0f921\"]], \"type\": \"histogram2dcontour\"}], \"mesh3d\": [{\"colorbar\": {\"outlinewidth\": 0, \"ticks\": \"\"}, \"type\": \"mesh3d\"}], \"parcoords\": [{\"line\": {\"colorbar\": {\"outlinewidth\": 0, \"ticks\": \"\"}}, \"type\": \"parcoords\"}], \"pie\": [{\"automargin\": true, \"type\": \"pie\"}], \"scatter\": [{\"marker\": {\"colorbar\": {\"outlinewidth\": 0, \"ticks\": \"\"}}, \"type\": \"scatter\"}], \"scatter3d\": [{\"line\": {\"colorbar\": {\"outlinewidth\": 0, \"ticks\": \"\"}}, \"marker\": {\"colorbar\": {\"outlinewidth\": 0, \"ticks\": \"\"}}, \"type\": \"scatter3d\"}], \"scattercarpet\": [{\"marker\": {\"colorbar\": {\"outlinewidth\": 0, \"ticks\": \"\"}}, \"type\": \"scattercarpet\"}], \"scattergeo\": [{\"marker\": {\"colorbar\": {\"outlinewidth\": 0, \"ticks\": \"\"}}, \"type\": \"scattergeo\"}], \"scattergl\": [{\"marker\": {\"colorbar\": {\"outlinewidth\": 0, \"ticks\": \"\"}}, \"type\": \"scattergl\"}], \"scattermapbox\": [{\"marker\": {\"colorbar\": {\"outlinewidth\": 0, \"ticks\": \"\"}}, \"type\": \"scattermapbox\"}], \"scatterpolar\": [{\"marker\": {\"colorbar\": {\"outlinewidth\": 0, \"ticks\": \"\"}}, \"type\": \"scatterpolar\"}], \"scatterpolargl\": [{\"marker\": {\"colorbar\": {\"outlinewidth\": 0, \"ticks\": \"\"}}, \"type\": \"scatterpolargl\"}], \"scatterternary\": [{\"marker\": {\"colorbar\": {\"outlinewidth\": 0, \"ticks\": \"\"}}, \"type\": \"scatterternary\"}], \"surface\": [{\"colorbar\": {\"outlinewidth\": 0, \"ticks\": \"\"}, \"colorscale\": [[0.0, \"#0d0887\"], [0.1111111111111111, \"#46039f\"], [0.2222222222222222, \"#7201a8\"], [0.3333333333333333, \"#9c179e\"], [0.4444444444444444, \"#bd3786\"], [0.5555555555555556, \"#d8576b\"], [0.6666666666666666, \"#ed7953\"], [0.7777777777777778, \"#fb9f3a\"], [0.8888888888888888, \"#fdca26\"], [1.0, \"#f0f921\"]], \"type\": \"surface\"}], \"table\": [{\"cells\": {\"fill\": {\"color\": \"#EBF0F8\"}, \"line\": {\"color\": \"white\"}}, \"header\": {\"fill\": {\"color\": \"#C8D4E3\"}, \"line\": {\"color\": \"white\"}}, \"type\": \"table\"}]}, \"layout\": {\"annotationdefaults\": {\"arrowcolor\": \"#2a3f5f\", \"arrowhead\": 0, \"arrowwidth\": 1}, \"autotypenumbers\": \"strict\", \"coloraxis\": {\"colorbar\": {\"outlinewidth\": 0, \"ticks\": \"\"}}, \"colorscale\": {\"diverging\": [[0, \"#8e0152\"], [0.1, \"#c51b7d\"], [0.2, \"#de77ae\"], [0.3, \"#f1b6da\"], [0.4, \"#fde0ef\"], [0.5, \"#f7f7f7\"], [0.6, \"#e6f5d0\"], [0.7, \"#b8e186\"], [0.8, \"#7fbc41\"], [0.9, \"#4d9221\"], [1, \"#276419\"]], \"sequential\": [[0.0, \"#0d0887\"], [0.1111111111111111, \"#46039f\"], [0.2222222222222222, \"#7201a8\"], [0.3333333333333333, \"#9c179e\"], [0.4444444444444444, \"#bd3786\"], [0.5555555555555556, \"#d8576b\"], [0.6666666666666666, \"#ed7953\"], [0.7777777777777778, \"#fb9f3a\"], [0.8888888888888888, \"#fdca26\"], [1.0, \"#f0f921\"]], \"sequentialminus\": [[0.0, \"#0d0887\"], [0.1111111111111111, \"#46039f\"], [0.2222222222222222, \"#7201a8\"], [0.3333333333333333, \"#9c179e\"], [0.4444444444444444, \"#bd3786\"], [0.5555555555555556, \"#d8576b\"], [0.6666666666666666, \"#ed7953\"], [0.7777777777777778, \"#fb9f3a\"], [0.8888888888888888, \"#fdca26\"], [1.0, \"#f0f921\"]]}, \"colorway\": [\"#636efa\", \"#EF553B\", \"#00cc96\", \"#ab63fa\", \"#FFA15A\", \"#19d3f3\", \"#FF6692\", \"#B6E880\", \"#FF97FF\", \"#FECB52\"], \"font\": {\"color\": \"#2a3f5f\"}, \"geo\": {\"bgcolor\": \"white\", \"lakecolor\": \"white\", \"landcolor\": \"#E5ECF6\", \"showlakes\": true, \"showland\": true, \"subunitcolor\": \"white\"}, \"hoverlabel\": {\"align\": \"left\"}, \"hovermode\": \"closest\", \"mapbox\": {\"style\": \"light\"}, \"paper_bgcolor\": \"white\", \"plot_bgcolor\": \"#E5ECF6\", \"polar\": {\"angularaxis\": {\"gridcolor\": \"white\", \"linecolor\": \"white\", \"ticks\": \"\"}, \"bgcolor\": \"#E5ECF6\", \"radialaxis\": {\"gridcolor\": \"white\", \"linecolor\": \"white\", \"ticks\": \"\"}}, \"scene\": {\"xaxis\": {\"backgroundcolor\": \"#E5ECF6\", \"gridcolor\": \"white\", \"gridwidth\": 2, \"linecolor\": \"white\", \"showbackground\": true, \"ticks\": \"\", \"zerolinecolor\": \"white\"}, \"yaxis\": {\"backgroundcolor\": \"#E5ECF6\", \"gridcolor\": \"white\", \"gridwidth\": 2, \"linecolor\": \"white\", \"showbackground\": true, \"ticks\": \"\", \"zerolinecolor\": \"white\"}, \"zaxis\": {\"backgroundcolor\": \"#E5ECF6\", \"gridcolor\": \"white\", \"gridwidth\": 2, \"linecolor\": \"white\", \"showbackground\": true, \"ticks\": \"\", \"zerolinecolor\": \"white\"}}, \"shapedefaults\": {\"line\": {\"color\": \"#2a3f5f\"}}, \"ternary\": {\"aaxis\": {\"gridcolor\": \"white\", \"linecolor\": \"white\", \"ticks\": \"\"}, \"baxis\": {\"gridcolor\": \"white\", \"linecolor\": \"white\", \"ticks\": \"\"}, \"bgcolor\": \"#E5ECF6\", \"caxis\": {\"gridcolor\": \"white\", \"linecolor\": \"white\", \"ticks\": \"\"}}, \"title\": {\"x\": 0.05}, \"xaxis\": {\"automargin\": true, \"gridcolor\": \"white\", \"linecolor\": \"white\", \"ticks\": \"\", \"title\": {\"standoff\": 15}, \"zerolinecolor\": \"white\", \"zerolinewidth\": 2}, \"yaxis\": {\"automargin\": true, \"gridcolor\": \"white\", \"linecolor\": \"white\", \"ticks\": \"\", \"title\": {\"standoff\": 15}, \"zerolinecolor\": \"white\", \"zerolinewidth\": 2}}}, \"xaxis\": {\"rangeslider\": {\"visible\": false}}},                        {\"responsive\": true}                    ).then(function(){\n                            \nvar gd = document.getElementById('25d2f452-2e69-4668-bd19-6c82183f6870');\nvar x = new MutationObserver(function (mutations, observer) {{\n        var display = window.getComputedStyle(gd).display;\n        if (!display || display === 'none') {{\n            console.log([gd, 'removed!']);\n            Plotly.purge(gd);\n            observer.disconnect();\n        }}\n}});\n\n// Listen for the removal of the full notebook cells\nvar notebookContainer = gd.closest('#notebook-container');\nif (notebookContainer) {{\n    x.observe(notebookContainer, {childList: true});\n}}\n\n// Listen for the clearing of the current output cell\nvar outputEl = gd.closest('.output');\nif (outputEl) {{\n    x.observe(outputEl, {childList: true});\n}}\n\n                        })                };                });            </script>        </div>"
                    },
                    "metadata": {},
                    "output_type": "display_data"
                }
            ],
            "source": "fig = go.Figure(data=[go.Candlestick(x=data['Date'],\n                open=candlestick_data['Price']['first'], \n                high=candlestick_data['Price']['max'],\n                low=candlestick_data['Price']['min'], \n                close=candlestick_data['Price']['last'])\n                ])\n\nfig.update_layout(xaxis_rangeslider_visible=False)\n\nfig.show()"
        },
        {
            "cell_type": "markdown",
            "metadata": {},
            "source": "## Authors:\n\n## Change Log\n\n| Date (YYYY-MM-DD) | Version | Changed By    | Change Description                 |\n| ----------------- | ------- | ------------- | ---------------------------------- |\n| 2020-11-23        | 3.0     | Azim Hirjani  | New API                            |\n| 2020-09-09        | 2.1     | Malika Singla | Spell Check                        |\n| 2020-08-26        | 2.0     | Lavanya       | Moved lab to course repo in GitLab |\n|                   |         |               |                                    |\n\n<hr/>\n\n## <h3 align=\"center\"> \u00a9 IBM Corporation 2020. All rights reserved. <h3/>\n"
        },
        {
            "cell_type": "code",
            "execution_count": null,
            "metadata": {},
            "outputs": [],
            "source": ""
        }
    ],
    "metadata": {
        "kernelspec": {
            "display_name": "Python",
            "language": "python",
            "name": "conda-env-python-py"
        },
        "language_info": {
            "codemirror_mode": {
                "name": "ipython",
                "version": 3
            },
            "file_extension": ".py",
            "mimetype": "text/x-python",
            "name": "python",
            "nbconvert_exporter": "python",
            "pygments_lexer": "ipython3",
            "version": "3.6.13"
        }
    },
    "nbformat": 4,
    "nbformat_minor": 4
}